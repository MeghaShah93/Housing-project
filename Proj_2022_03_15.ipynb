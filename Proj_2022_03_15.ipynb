{
 "cells": [
  {
   "cell_type": "code",
   "execution_count": 97,
   "id": "e3ae71cb",
   "metadata": {},
   "outputs": [],
   "source": [
    "# https://www.youtube.com/watch?v=vtm35gVP8JU\n",
    "import numpy as np\n",
    "import pandas as pd\n",
    "import matplotlib.pyplot as plt\n",
    "import seaborn as sns\n",
    "import warnings\n",
    "warnings.filterwarnings(\"ignore\")"
   ]
  },
  {
   "cell_type": "code",
   "execution_count": 98,
   "id": "d5c85bfc",
   "metadata": {},
   "outputs": [],
   "source": [
    "# Loading train as well as test data in two different DataFrames\n",
    "df = pd.read_csv(r'D:\\Downloads\\_Tanni_Data\\Tanni Project\\Proj_2022_03_05\\train.csv')\n",
    "df_t = pd.read_csv(r'D:\\Downloads\\_Tanni_Data\\Tanni Project\\Proj_2022_03_05\\test.csv')"
   ]
  },
  {
   "cell_type": "code",
   "execution_count": 244,
   "id": "768d97c1",
   "metadata": {},
   "outputs": [
    {
     "data": {
      "text/html": [
       "<div>\n",
       "<style scoped>\n",
       "    .dataframe tbody tr th:only-of-type {\n",
       "        vertical-align: middle;\n",
       "    }\n",
       "\n",
       "    .dataframe tbody tr th {\n",
       "        vertical-align: top;\n",
       "    }\n",
       "\n",
       "    .dataframe thead th {\n",
       "        text-align: right;\n",
       "    }\n",
       "</style>\n",
       "<table border=\"1\" class=\"dataframe\">\n",
       "  <thead>\n",
       "    <tr style=\"text-align: right;\">\n",
       "      <th></th>\n",
       "      <th>Id</th>\n",
       "      <th>MSSubClass</th>\n",
       "      <th>MSZoning</th>\n",
       "      <th>LotFrontage</th>\n",
       "      <th>LotArea</th>\n",
       "      <th>Street</th>\n",
       "      <th>Alley</th>\n",
       "      <th>LotShape</th>\n",
       "      <th>LandContour</th>\n",
       "      <th>Utilities</th>\n",
       "      <th>...</th>\n",
       "      <th>PoolArea</th>\n",
       "      <th>PoolQC</th>\n",
       "      <th>Fence</th>\n",
       "      <th>MiscFeature</th>\n",
       "      <th>MiscVal</th>\n",
       "      <th>MoSold</th>\n",
       "      <th>YrSold</th>\n",
       "      <th>SaleType</th>\n",
       "      <th>SaleCondition</th>\n",
       "      <th>SalePrice</th>\n",
       "    </tr>\n",
       "  </thead>\n",
       "  <tbody>\n",
       "    <tr>\n",
       "      <th>0</th>\n",
       "      <td>127</td>\n",
       "      <td>120</td>\n",
       "      <td>RL</td>\n",
       "      <td>NaN</td>\n",
       "      <td>4928</td>\n",
       "      <td>Pave</td>\n",
       "      <td>NaN</td>\n",
       "      <td>IR1</td>\n",
       "      <td>Lvl</td>\n",
       "      <td>AllPub</td>\n",
       "      <td>...</td>\n",
       "      <td>0</td>\n",
       "      <td>NaN</td>\n",
       "      <td>NaN</td>\n",
       "      <td>NaN</td>\n",
       "      <td>0</td>\n",
       "      <td>2</td>\n",
       "      <td>2007</td>\n",
       "      <td>WD</td>\n",
       "      <td>Normal</td>\n",
       "      <td>128000</td>\n",
       "    </tr>\n",
       "    <tr>\n",
       "      <th>1</th>\n",
       "      <td>889</td>\n",
       "      <td>20</td>\n",
       "      <td>RL</td>\n",
       "      <td>95.0</td>\n",
       "      <td>15865</td>\n",
       "      <td>Pave</td>\n",
       "      <td>NaN</td>\n",
       "      <td>IR1</td>\n",
       "      <td>Lvl</td>\n",
       "      <td>AllPub</td>\n",
       "      <td>...</td>\n",
       "      <td>0</td>\n",
       "      <td>NaN</td>\n",
       "      <td>NaN</td>\n",
       "      <td>NaN</td>\n",
       "      <td>0</td>\n",
       "      <td>10</td>\n",
       "      <td>2007</td>\n",
       "      <td>WD</td>\n",
       "      <td>Normal</td>\n",
       "      <td>268000</td>\n",
       "    </tr>\n",
       "    <tr>\n",
       "      <th>2</th>\n",
       "      <td>793</td>\n",
       "      <td>60</td>\n",
       "      <td>RL</td>\n",
       "      <td>92.0</td>\n",
       "      <td>9920</td>\n",
       "      <td>Pave</td>\n",
       "      <td>NaN</td>\n",
       "      <td>IR1</td>\n",
       "      <td>Lvl</td>\n",
       "      <td>AllPub</td>\n",
       "      <td>...</td>\n",
       "      <td>0</td>\n",
       "      <td>NaN</td>\n",
       "      <td>NaN</td>\n",
       "      <td>NaN</td>\n",
       "      <td>0</td>\n",
       "      <td>6</td>\n",
       "      <td>2007</td>\n",
       "      <td>WD</td>\n",
       "      <td>Normal</td>\n",
       "      <td>269790</td>\n",
       "    </tr>\n",
       "    <tr>\n",
       "      <th>3</th>\n",
       "      <td>110</td>\n",
       "      <td>20</td>\n",
       "      <td>RL</td>\n",
       "      <td>105.0</td>\n",
       "      <td>11751</td>\n",
       "      <td>Pave</td>\n",
       "      <td>NaN</td>\n",
       "      <td>IR1</td>\n",
       "      <td>Lvl</td>\n",
       "      <td>AllPub</td>\n",
       "      <td>...</td>\n",
       "      <td>0</td>\n",
       "      <td>NaN</td>\n",
       "      <td>MnPrv</td>\n",
       "      <td>NaN</td>\n",
       "      <td>0</td>\n",
       "      <td>1</td>\n",
       "      <td>2010</td>\n",
       "      <td>COD</td>\n",
       "      <td>Normal</td>\n",
       "      <td>190000</td>\n",
       "    </tr>\n",
       "    <tr>\n",
       "      <th>4</th>\n",
       "      <td>422</td>\n",
       "      <td>20</td>\n",
       "      <td>RL</td>\n",
       "      <td>NaN</td>\n",
       "      <td>16635</td>\n",
       "      <td>Pave</td>\n",
       "      <td>NaN</td>\n",
       "      <td>IR1</td>\n",
       "      <td>Lvl</td>\n",
       "      <td>AllPub</td>\n",
       "      <td>...</td>\n",
       "      <td>0</td>\n",
       "      <td>NaN</td>\n",
       "      <td>NaN</td>\n",
       "      <td>NaN</td>\n",
       "      <td>0</td>\n",
       "      <td>6</td>\n",
       "      <td>2009</td>\n",
       "      <td>WD</td>\n",
       "      <td>Normal</td>\n",
       "      <td>215000</td>\n",
       "    </tr>\n",
       "    <tr>\n",
       "      <th>...</th>\n",
       "      <td>...</td>\n",
       "      <td>...</td>\n",
       "      <td>...</td>\n",
       "      <td>...</td>\n",
       "      <td>...</td>\n",
       "      <td>...</td>\n",
       "      <td>...</td>\n",
       "      <td>...</td>\n",
       "      <td>...</td>\n",
       "      <td>...</td>\n",
       "      <td>...</td>\n",
       "      <td>...</td>\n",
       "      <td>...</td>\n",
       "      <td>...</td>\n",
       "      <td>...</td>\n",
       "      <td>...</td>\n",
       "      <td>...</td>\n",
       "      <td>...</td>\n",
       "      <td>...</td>\n",
       "      <td>...</td>\n",
       "      <td>...</td>\n",
       "    </tr>\n",
       "    <tr>\n",
       "      <th>1163</th>\n",
       "      <td>289</td>\n",
       "      <td>20</td>\n",
       "      <td>RL</td>\n",
       "      <td>NaN</td>\n",
       "      <td>9819</td>\n",
       "      <td>Pave</td>\n",
       "      <td>NaN</td>\n",
       "      <td>IR1</td>\n",
       "      <td>Lvl</td>\n",
       "      <td>AllPub</td>\n",
       "      <td>...</td>\n",
       "      <td>0</td>\n",
       "      <td>NaN</td>\n",
       "      <td>MnPrv</td>\n",
       "      <td>NaN</td>\n",
       "      <td>0</td>\n",
       "      <td>2</td>\n",
       "      <td>2010</td>\n",
       "      <td>WD</td>\n",
       "      <td>Normal</td>\n",
       "      <td>122000</td>\n",
       "    </tr>\n",
       "    <tr>\n",
       "      <th>1164</th>\n",
       "      <td>554</td>\n",
       "      <td>20</td>\n",
       "      <td>RL</td>\n",
       "      <td>67.0</td>\n",
       "      <td>8777</td>\n",
       "      <td>Pave</td>\n",
       "      <td>NaN</td>\n",
       "      <td>Reg</td>\n",
       "      <td>Lvl</td>\n",
       "      <td>AllPub</td>\n",
       "      <td>...</td>\n",
       "      <td>0</td>\n",
       "      <td>NaN</td>\n",
       "      <td>MnPrv</td>\n",
       "      <td>NaN</td>\n",
       "      <td>0</td>\n",
       "      <td>5</td>\n",
       "      <td>2009</td>\n",
       "      <td>WD</td>\n",
       "      <td>Normal</td>\n",
       "      <td>108000</td>\n",
       "    </tr>\n",
       "    <tr>\n",
       "      <th>1165</th>\n",
       "      <td>196</td>\n",
       "      <td>160</td>\n",
       "      <td>RL</td>\n",
       "      <td>24.0</td>\n",
       "      <td>2280</td>\n",
       "      <td>Pave</td>\n",
       "      <td>NaN</td>\n",
       "      <td>Reg</td>\n",
       "      <td>Lvl</td>\n",
       "      <td>AllPub</td>\n",
       "      <td>...</td>\n",
       "      <td>0</td>\n",
       "      <td>NaN</td>\n",
       "      <td>NaN</td>\n",
       "      <td>NaN</td>\n",
       "      <td>0</td>\n",
       "      <td>7</td>\n",
       "      <td>2009</td>\n",
       "      <td>WD</td>\n",
       "      <td>Normal</td>\n",
       "      <td>148500</td>\n",
       "    </tr>\n",
       "    <tr>\n",
       "      <th>1166</th>\n",
       "      <td>31</td>\n",
       "      <td>70</td>\n",
       "      <td>C (all)</td>\n",
       "      <td>50.0</td>\n",
       "      <td>8500</td>\n",
       "      <td>Pave</td>\n",
       "      <td>Pave</td>\n",
       "      <td>Reg</td>\n",
       "      <td>Lvl</td>\n",
       "      <td>AllPub</td>\n",
       "      <td>...</td>\n",
       "      <td>0</td>\n",
       "      <td>NaN</td>\n",
       "      <td>MnPrv</td>\n",
       "      <td>NaN</td>\n",
       "      <td>0</td>\n",
       "      <td>7</td>\n",
       "      <td>2008</td>\n",
       "      <td>WD</td>\n",
       "      <td>Normal</td>\n",
       "      <td>40000</td>\n",
       "    </tr>\n",
       "    <tr>\n",
       "      <th>1167</th>\n",
       "      <td>617</td>\n",
       "      <td>60</td>\n",
       "      <td>RL</td>\n",
       "      <td>NaN</td>\n",
       "      <td>7861</td>\n",
       "      <td>Pave</td>\n",
       "      <td>NaN</td>\n",
       "      <td>IR1</td>\n",
       "      <td>Lvl</td>\n",
       "      <td>AllPub</td>\n",
       "      <td>...</td>\n",
       "      <td>0</td>\n",
       "      <td>NaN</td>\n",
       "      <td>NaN</td>\n",
       "      <td>NaN</td>\n",
       "      <td>0</td>\n",
       "      <td>6</td>\n",
       "      <td>2006</td>\n",
       "      <td>WD</td>\n",
       "      <td>Normal</td>\n",
       "      <td>183200</td>\n",
       "    </tr>\n",
       "  </tbody>\n",
       "</table>\n",
       "<p>1168 rows × 81 columns</p>\n",
       "</div>"
      ],
      "text/plain": [
       "       Id  MSSubClass MSZoning  LotFrontage  LotArea Street Alley LotShape  \\\n",
       "0     127         120       RL          NaN     4928   Pave   NaN      IR1   \n",
       "1     889          20       RL         95.0    15865   Pave   NaN      IR1   \n",
       "2     793          60       RL         92.0     9920   Pave   NaN      IR1   \n",
       "3     110          20       RL        105.0    11751   Pave   NaN      IR1   \n",
       "4     422          20       RL          NaN    16635   Pave   NaN      IR1   \n",
       "...   ...         ...      ...          ...      ...    ...   ...      ...   \n",
       "1163  289          20       RL          NaN     9819   Pave   NaN      IR1   \n",
       "1164  554          20       RL         67.0     8777   Pave   NaN      Reg   \n",
       "1165  196         160       RL         24.0     2280   Pave   NaN      Reg   \n",
       "1166   31          70  C (all)         50.0     8500   Pave  Pave      Reg   \n",
       "1167  617          60       RL          NaN     7861   Pave   NaN      IR1   \n",
       "\n",
       "     LandContour Utilities  ... PoolArea PoolQC  Fence MiscFeature MiscVal  \\\n",
       "0            Lvl    AllPub  ...        0    NaN    NaN         NaN       0   \n",
       "1            Lvl    AllPub  ...        0    NaN    NaN         NaN       0   \n",
       "2            Lvl    AllPub  ...        0    NaN    NaN         NaN       0   \n",
       "3            Lvl    AllPub  ...        0    NaN  MnPrv         NaN       0   \n",
       "4            Lvl    AllPub  ...        0    NaN    NaN         NaN       0   \n",
       "...          ...       ...  ...      ...    ...    ...         ...     ...   \n",
       "1163         Lvl    AllPub  ...        0    NaN  MnPrv         NaN       0   \n",
       "1164         Lvl    AllPub  ...        0    NaN  MnPrv         NaN       0   \n",
       "1165         Lvl    AllPub  ...        0    NaN    NaN         NaN       0   \n",
       "1166         Lvl    AllPub  ...        0    NaN  MnPrv         NaN       0   \n",
       "1167         Lvl    AllPub  ...        0    NaN    NaN         NaN       0   \n",
       "\n",
       "     MoSold YrSold  SaleType  SaleCondition  SalePrice  \n",
       "0         2   2007        WD         Normal     128000  \n",
       "1        10   2007        WD         Normal     268000  \n",
       "2         6   2007        WD         Normal     269790  \n",
       "3         1   2010       COD         Normal     190000  \n",
       "4         6   2009        WD         Normal     215000  \n",
       "...     ...    ...       ...            ...        ...  \n",
       "1163      2   2010        WD         Normal     122000  \n",
       "1164      5   2009        WD         Normal     108000  \n",
       "1165      7   2009        WD         Normal     148500  \n",
       "1166      7   2008        WD         Normal      40000  \n",
       "1167      6   2006        WD         Normal     183200  \n",
       "\n",
       "[1168 rows x 81 columns]"
      ]
     },
     "execution_count": 244,
     "metadata": {},
     "output_type": "execute_result"
    }
   ],
   "source": [
    "df"
   ]
  },
  {
   "cell_type": "code",
   "execution_count": 141,
   "id": "dd20229e",
   "metadata": {},
   "outputs": [
    {
     "name": "stdout",
     "output_type": "stream",
     "text": [
      "MSZoning : ['RL' 'RM' 'FV' 'C (all)'] ['RL' 'RM' 'FV' 'RH' 'C (all)']\n",
      "Utilities : ['AllPub' 'NoSeWa'] ['AllPub']\n",
      "Neighborhood : ['StoneBr' 'CollgCr' 'Crawfor' 'Somerst' 'MeadowV' 'Edwards' 'NridgHt'\n",
      " 'SawyerW' 'Mitchel' 'BrkSide' 'NAmes' 'Timber' 'OldTown' 'Sawyer'\n",
      " 'IDOTRR' 'SWISU' 'Gilbert' 'NWAmes' 'BrDale' 'NPkVill' 'NoRidge'\n",
      " 'Blmngtn' 'Veenker' 'ClearCr'] ['NPkVill' 'NAmes' 'NoRidge' 'NWAmes' 'Gilbert' 'Sawyer' 'Edwards'\n",
      " 'IDOTRR' 'CollgCr' 'Mitchel' 'Crawfor' 'BrDale' 'StoneBr' 'BrkSide'\n",
      " 'NridgHt' 'OldTown' 'Somerst' 'Timber' 'SWISU' 'SawyerW' 'ClearCr'\n",
      " 'Veenker' 'Blmngtn' 'MeadowV' 'Blueste']\n",
      "Condition1 : ['Norm' 'Feedr' 'Artery' 'RRAe' 'RRNn' 'PosN' 'RRAn' 'PosA'] ['Norm' 'Feedr' 'RRAn' 'PosA' 'RRAe' 'Artery' 'PosN' 'RRNe' 'RRNn']\n",
      "Condition2 : ['Norm' 'RRNn'] ['Norm' 'RRAe' 'Feedr' 'PosN' 'Artery' 'RRNn' 'PosA' 'RRAn']\n",
      "RoofStyle : ['Hip' 'Gable' 'Gambrel' 'Mansard' 'Flat'] ['Gable' 'Flat' 'Hip' 'Shed' 'Gambrel' 'Mansard']\n",
      "RoofMatl : ['CompShg' 'WdShake' 'Tar&Grv'] ['CompShg' 'Tar&Grv' 'WdShngl' 'WdShake' 'Roll' 'ClyTile' 'Metal'\n",
      " 'Membran']\n",
      "Exterior1st : ['VinylSd' 'HdBoard' 'MetalSd' 'CemntBd' 'Wd Sdng' 'Plywood' 'BrkFace'\n",
      " 'AsbShng' 'WdShing' 'BrkComm' 'Stucco' 'CBlock'] ['Plywood' 'Wd Sdng' 'MetalSd' 'CemntBd' 'VinylSd' 'HdBoard' 'Stucco'\n",
      " 'WdShing' 'BrkFace' 'Stone' 'AsbShng' 'AsphShn' 'ImStucc' 'BrkComm']\n",
      "Exterior2nd : ['VinylSd' 'HdBoard' 'MetalSd' 'CmentBd' 'Wd Sdng' 'Plywood' 'Wd Shng'\n",
      " 'Brk Cmn' 'ImStucc' 'AsbShng' 'BrkFace' 'Stone' 'CBlock' 'Stucco'] ['Plywood' 'Wd Sdng' 'MetalSd' 'CmentBd' 'VinylSd' 'HdBoard' 'Wd Shng'\n",
      " 'Stucco' 'ImStucc' 'Stone' 'BrkFace' 'AsbShng' 'Brk Cmn' 'AsphShn'\n",
      " 'Other']\n",
      "ExterCond : ['TA' 'Gd' 'Fa' 'Ex'] ['TA' 'Gd' 'Fa' 'Po' 'Ex']\n",
      "BsmtCond : ['TA' 'Gd' nan 'Fa'] ['TA' 'Gd' 'Fa' nan 'Po']\n",
      "Heating : ['GasA' 'Grav' 'GasW' 'OthW'] ['GasA' 'GasW' 'Floor' 'OthW' 'Wall' 'Grav']\n",
      "HeatingQC : ['Ex' 'Gd' 'Fa' 'TA'] ['TA' 'Ex' 'Gd' 'Fa' 'Po']\n",
      "Functional : ['Typ' 'Min1' 'Mod' 'Min2' 'Maj1' 'Maj2'] ['Typ' 'Mod' 'Maj1' 'Min1' 'Min2' 'Sev' 'Maj2']\n",
      "MiscFeature : [nan 'Othr' 'Shed'] [nan 'Shed' 'Gar2' 'TenC' 'Othr']\n",
      "SaleType : ['WD' 'COD' 'New' 'ConLD' 'CWD' 'ConLw'] ['WD' 'COD' 'New' 'ConLI' 'ConLw' 'Con' 'ConLD' 'Oth' 'CWD']\n",
      "SaleCondition : ['Normal' 'Abnorml' 'Partial' 'Family'] ['Normal' 'Partial' 'Abnorml' 'Family' 'Alloca' 'AdjLand']\n"
     ]
    }
   ],
   "source": [
    "# Object type columns when converted to numerical type result in a number columns equal to no of unique values in that column\n",
    "# Finding differenct in resultant object type columns unique value columns (that will be made when we conver to numerical)\n",
    "# \n",
    "for i in df_t.columns:\n",
    "    if df_t[i].dtype == object:\n",
    "        if( len(df_t[i].unique()) != len(df[i].unique())) :\n",
    "            print(i,\":\", df_t[i].unique(), df[i].unique())"
   ]
  },
  {
   "cell_type": "markdown",
   "id": "7bdafe87",
   "metadata": {},
   "source": [
    "#### Above display shows that the no of unique values is different for many object type columns<br>\n",
    "Hence we will club both the train as well as test dataframe together for preprocessing of data before model building."
   ]
  },
  {
   "cell_type": "code",
   "execution_count": 142,
   "id": "23567a29",
   "metadata": {},
   "outputs": [],
   "source": [
    "dfn = df.append(df_t,ignore_index=True)                  # Add both DataFrames to make a single DataFrame"
   ]
  },
  {
   "cell_type": "code",
   "execution_count": 143,
   "id": "0ebcc07f",
   "metadata": {},
   "outputs": [],
   "source": [
    "# dfn1 = dfn.drop(dfn[pd.isna(dfn.SalePrice)].index)     # Make train data by deleteing NaN SalePrice "
   ]
  },
  {
   "cell_type": "code",
   "execution_count": 144,
   "id": "a871942e",
   "metadata": {},
   "outputs": [],
   "source": [
    "# dfn1_t = dfn.drop(dfn[pd.notna(dfn.SalePrice)].index)  # Make test data by deleting non NaN SalePrice"
   ]
  },
  {
   "cell_type": "code",
   "execution_count": 145,
   "id": "46a94562",
   "metadata": {},
   "outputs": [],
   "source": [
    "# print(df.shape, df_t.shape, dfn.shape, dfn1.shape, dfn1_t.shape)"
   ]
  },
  {
   "cell_type": "code",
   "execution_count": 146,
   "id": "afbe3305",
   "metadata": {},
   "outputs": [
    {
     "data": {
      "text/html": [
       "<div>\n",
       "<style scoped>\n",
       "    .dataframe tbody tr th:only-of-type {\n",
       "        vertical-align: middle;\n",
       "    }\n",
       "\n",
       "    .dataframe tbody tr th {\n",
       "        vertical-align: top;\n",
       "    }\n",
       "\n",
       "    .dataframe thead th {\n",
       "        text-align: right;\n",
       "    }\n",
       "</style>\n",
       "<table border=\"1\" class=\"dataframe\">\n",
       "  <thead>\n",
       "    <tr style=\"text-align: right;\">\n",
       "      <th></th>\n",
       "      <th>Id</th>\n",
       "      <th>MSSubClass</th>\n",
       "      <th>MSZoning</th>\n",
       "      <th>LotFrontage</th>\n",
       "      <th>LotArea</th>\n",
       "      <th>Street</th>\n",
       "      <th>Alley</th>\n",
       "      <th>LotShape</th>\n",
       "      <th>LandContour</th>\n",
       "      <th>Utilities</th>\n",
       "      <th>...</th>\n",
       "      <th>PoolArea</th>\n",
       "      <th>PoolQC</th>\n",
       "      <th>Fence</th>\n",
       "      <th>MiscFeature</th>\n",
       "      <th>MiscVal</th>\n",
       "      <th>MoSold</th>\n",
       "      <th>YrSold</th>\n",
       "      <th>SaleType</th>\n",
       "      <th>SaleCondition</th>\n",
       "      <th>SalePrice</th>\n",
       "    </tr>\n",
       "  </thead>\n",
       "  <tbody>\n",
       "    <tr>\n",
       "      <th>0</th>\n",
       "      <td>127</td>\n",
       "      <td>120</td>\n",
       "      <td>RL</td>\n",
       "      <td>NaN</td>\n",
       "      <td>4928</td>\n",
       "      <td>Pave</td>\n",
       "      <td>NaN</td>\n",
       "      <td>IR1</td>\n",
       "      <td>Lvl</td>\n",
       "      <td>AllPub</td>\n",
       "      <td>...</td>\n",
       "      <td>0</td>\n",
       "      <td>NaN</td>\n",
       "      <td>NaN</td>\n",
       "      <td>NaN</td>\n",
       "      <td>0</td>\n",
       "      <td>2</td>\n",
       "      <td>2007</td>\n",
       "      <td>WD</td>\n",
       "      <td>Normal</td>\n",
       "      <td>128000.0</td>\n",
       "    </tr>\n",
       "    <tr>\n",
       "      <th>1</th>\n",
       "      <td>889</td>\n",
       "      <td>20</td>\n",
       "      <td>RL</td>\n",
       "      <td>95.0</td>\n",
       "      <td>15865</td>\n",
       "      <td>Pave</td>\n",
       "      <td>NaN</td>\n",
       "      <td>IR1</td>\n",
       "      <td>Lvl</td>\n",
       "      <td>AllPub</td>\n",
       "      <td>...</td>\n",
       "      <td>0</td>\n",
       "      <td>NaN</td>\n",
       "      <td>NaN</td>\n",
       "      <td>NaN</td>\n",
       "      <td>0</td>\n",
       "      <td>10</td>\n",
       "      <td>2007</td>\n",
       "      <td>WD</td>\n",
       "      <td>Normal</td>\n",
       "      <td>268000.0</td>\n",
       "    </tr>\n",
       "    <tr>\n",
       "      <th>2</th>\n",
       "      <td>793</td>\n",
       "      <td>60</td>\n",
       "      <td>RL</td>\n",
       "      <td>92.0</td>\n",
       "      <td>9920</td>\n",
       "      <td>Pave</td>\n",
       "      <td>NaN</td>\n",
       "      <td>IR1</td>\n",
       "      <td>Lvl</td>\n",
       "      <td>AllPub</td>\n",
       "      <td>...</td>\n",
       "      <td>0</td>\n",
       "      <td>NaN</td>\n",
       "      <td>NaN</td>\n",
       "      <td>NaN</td>\n",
       "      <td>0</td>\n",
       "      <td>6</td>\n",
       "      <td>2007</td>\n",
       "      <td>WD</td>\n",
       "      <td>Normal</td>\n",
       "      <td>269790.0</td>\n",
       "    </tr>\n",
       "    <tr>\n",
       "      <th>3</th>\n",
       "      <td>110</td>\n",
       "      <td>20</td>\n",
       "      <td>RL</td>\n",
       "      <td>105.0</td>\n",
       "      <td>11751</td>\n",
       "      <td>Pave</td>\n",
       "      <td>NaN</td>\n",
       "      <td>IR1</td>\n",
       "      <td>Lvl</td>\n",
       "      <td>AllPub</td>\n",
       "      <td>...</td>\n",
       "      <td>0</td>\n",
       "      <td>NaN</td>\n",
       "      <td>MnPrv</td>\n",
       "      <td>NaN</td>\n",
       "      <td>0</td>\n",
       "      <td>1</td>\n",
       "      <td>2010</td>\n",
       "      <td>COD</td>\n",
       "      <td>Normal</td>\n",
       "      <td>190000.0</td>\n",
       "    </tr>\n",
       "    <tr>\n",
       "      <th>4</th>\n",
       "      <td>422</td>\n",
       "      <td>20</td>\n",
       "      <td>RL</td>\n",
       "      <td>NaN</td>\n",
       "      <td>16635</td>\n",
       "      <td>Pave</td>\n",
       "      <td>NaN</td>\n",
       "      <td>IR1</td>\n",
       "      <td>Lvl</td>\n",
       "      <td>AllPub</td>\n",
       "      <td>...</td>\n",
       "      <td>0</td>\n",
       "      <td>NaN</td>\n",
       "      <td>NaN</td>\n",
       "      <td>NaN</td>\n",
       "      <td>0</td>\n",
       "      <td>6</td>\n",
       "      <td>2009</td>\n",
       "      <td>WD</td>\n",
       "      <td>Normal</td>\n",
       "      <td>215000.0</td>\n",
       "    </tr>\n",
       "    <tr>\n",
       "      <th>...</th>\n",
       "      <td>...</td>\n",
       "      <td>...</td>\n",
       "      <td>...</td>\n",
       "      <td>...</td>\n",
       "      <td>...</td>\n",
       "      <td>...</td>\n",
       "      <td>...</td>\n",
       "      <td>...</td>\n",
       "      <td>...</td>\n",
       "      <td>...</td>\n",
       "      <td>...</td>\n",
       "      <td>...</td>\n",
       "      <td>...</td>\n",
       "      <td>...</td>\n",
       "      <td>...</td>\n",
       "      <td>...</td>\n",
       "      <td>...</td>\n",
       "      <td>...</td>\n",
       "      <td>...</td>\n",
       "      <td>...</td>\n",
       "      <td>...</td>\n",
       "    </tr>\n",
       "    <tr>\n",
       "      <th>1455</th>\n",
       "      <td>83</td>\n",
       "      <td>20</td>\n",
       "      <td>RL</td>\n",
       "      <td>78.0</td>\n",
       "      <td>10206</td>\n",
       "      <td>Pave</td>\n",
       "      <td>NaN</td>\n",
       "      <td>Reg</td>\n",
       "      <td>Lvl</td>\n",
       "      <td>AllPub</td>\n",
       "      <td>...</td>\n",
       "      <td>0</td>\n",
       "      <td>NaN</td>\n",
       "      <td>NaN</td>\n",
       "      <td>NaN</td>\n",
       "      <td>0</td>\n",
       "      <td>10</td>\n",
       "      <td>2008</td>\n",
       "      <td>WD</td>\n",
       "      <td>Normal</td>\n",
       "      <td>NaN</td>\n",
       "    </tr>\n",
       "    <tr>\n",
       "      <th>1456</th>\n",
       "      <td>1048</td>\n",
       "      <td>20</td>\n",
       "      <td>RL</td>\n",
       "      <td>57.0</td>\n",
       "      <td>9245</td>\n",
       "      <td>Pave</td>\n",
       "      <td>NaN</td>\n",
       "      <td>IR2</td>\n",
       "      <td>Lvl</td>\n",
       "      <td>AllPub</td>\n",
       "      <td>...</td>\n",
       "      <td>0</td>\n",
       "      <td>NaN</td>\n",
       "      <td>NaN</td>\n",
       "      <td>NaN</td>\n",
       "      <td>0</td>\n",
       "      <td>2</td>\n",
       "      <td>2008</td>\n",
       "      <td>WD</td>\n",
       "      <td>Normal</td>\n",
       "      <td>NaN</td>\n",
       "    </tr>\n",
       "    <tr>\n",
       "      <th>1457</th>\n",
       "      <td>17</td>\n",
       "      <td>20</td>\n",
       "      <td>RL</td>\n",
       "      <td>NaN</td>\n",
       "      <td>11241</td>\n",
       "      <td>Pave</td>\n",
       "      <td>NaN</td>\n",
       "      <td>IR1</td>\n",
       "      <td>Lvl</td>\n",
       "      <td>AllPub</td>\n",
       "      <td>...</td>\n",
       "      <td>0</td>\n",
       "      <td>NaN</td>\n",
       "      <td>NaN</td>\n",
       "      <td>Shed</td>\n",
       "      <td>700</td>\n",
       "      <td>3</td>\n",
       "      <td>2010</td>\n",
       "      <td>WD</td>\n",
       "      <td>Normal</td>\n",
       "      <td>NaN</td>\n",
       "    </tr>\n",
       "    <tr>\n",
       "      <th>1458</th>\n",
       "      <td>523</td>\n",
       "      <td>50</td>\n",
       "      <td>RM</td>\n",
       "      <td>50.0</td>\n",
       "      <td>5000</td>\n",
       "      <td>Pave</td>\n",
       "      <td>NaN</td>\n",
       "      <td>Reg</td>\n",
       "      <td>Lvl</td>\n",
       "      <td>AllPub</td>\n",
       "      <td>...</td>\n",
       "      <td>0</td>\n",
       "      <td>NaN</td>\n",
       "      <td>NaN</td>\n",
       "      <td>NaN</td>\n",
       "      <td>0</td>\n",
       "      <td>10</td>\n",
       "      <td>2006</td>\n",
       "      <td>WD</td>\n",
       "      <td>Normal</td>\n",
       "      <td>NaN</td>\n",
       "    </tr>\n",
       "    <tr>\n",
       "      <th>1459</th>\n",
       "      <td>1379</td>\n",
       "      <td>160</td>\n",
       "      <td>RM</td>\n",
       "      <td>21.0</td>\n",
       "      <td>1953</td>\n",
       "      <td>Pave</td>\n",
       "      <td>NaN</td>\n",
       "      <td>Reg</td>\n",
       "      <td>Lvl</td>\n",
       "      <td>AllPub</td>\n",
       "      <td>...</td>\n",
       "      <td>0</td>\n",
       "      <td>NaN</td>\n",
       "      <td>NaN</td>\n",
       "      <td>NaN</td>\n",
       "      <td>0</td>\n",
       "      <td>6</td>\n",
       "      <td>2006</td>\n",
       "      <td>WD</td>\n",
       "      <td>Normal</td>\n",
       "      <td>NaN</td>\n",
       "    </tr>\n",
       "  </tbody>\n",
       "</table>\n",
       "<p>1460 rows × 81 columns</p>\n",
       "</div>"
      ],
      "text/plain": [
       "        Id  MSSubClass MSZoning  LotFrontage  LotArea Street Alley LotShape  \\\n",
       "0      127         120       RL          NaN     4928   Pave   NaN      IR1   \n",
       "1      889          20       RL         95.0    15865   Pave   NaN      IR1   \n",
       "2      793          60       RL         92.0     9920   Pave   NaN      IR1   \n",
       "3      110          20       RL        105.0    11751   Pave   NaN      IR1   \n",
       "4      422          20       RL          NaN    16635   Pave   NaN      IR1   \n",
       "...    ...         ...      ...          ...      ...    ...   ...      ...   \n",
       "1455    83          20       RL         78.0    10206   Pave   NaN      Reg   \n",
       "1456  1048          20       RL         57.0     9245   Pave   NaN      IR2   \n",
       "1457    17          20       RL          NaN    11241   Pave   NaN      IR1   \n",
       "1458   523          50       RM         50.0     5000   Pave   NaN      Reg   \n",
       "1459  1379         160       RM         21.0     1953   Pave   NaN      Reg   \n",
       "\n",
       "     LandContour Utilities  ... PoolArea PoolQC  Fence MiscFeature MiscVal  \\\n",
       "0            Lvl    AllPub  ...        0    NaN    NaN         NaN       0   \n",
       "1            Lvl    AllPub  ...        0    NaN    NaN         NaN       0   \n",
       "2            Lvl    AllPub  ...        0    NaN    NaN         NaN       0   \n",
       "3            Lvl    AllPub  ...        0    NaN  MnPrv         NaN       0   \n",
       "4            Lvl    AllPub  ...        0    NaN    NaN         NaN       0   \n",
       "...          ...       ...  ...      ...    ...    ...         ...     ...   \n",
       "1455         Lvl    AllPub  ...        0    NaN    NaN         NaN       0   \n",
       "1456         Lvl    AllPub  ...        0    NaN    NaN         NaN       0   \n",
       "1457         Lvl    AllPub  ...        0    NaN    NaN        Shed     700   \n",
       "1458         Lvl    AllPub  ...        0    NaN    NaN         NaN       0   \n",
       "1459         Lvl    AllPub  ...        0    NaN    NaN         NaN       0   \n",
       "\n",
       "     MoSold YrSold  SaleType  SaleCondition  SalePrice  \n",
       "0         2   2007        WD         Normal   128000.0  \n",
       "1        10   2007        WD         Normal   268000.0  \n",
       "2         6   2007        WD         Normal   269790.0  \n",
       "3         1   2010       COD         Normal   190000.0  \n",
       "4         6   2009        WD         Normal   215000.0  \n",
       "...     ...    ...       ...            ...        ...  \n",
       "1455     10   2008        WD         Normal        NaN  \n",
       "1456      2   2008        WD         Normal        NaN  \n",
       "1457      3   2010        WD         Normal        NaN  \n",
       "1458     10   2006        WD         Normal        NaN  \n",
       "1459      6   2006        WD         Normal        NaN  \n",
       "\n",
       "[1460 rows x 81 columns]"
      ]
     },
     "execution_count": 146,
     "metadata": {},
     "output_type": "execute_result"
    }
   ],
   "source": [
    "dfn"
   ]
  },
  {
   "cell_type": "code",
   "execution_count": 147,
   "id": "a3231488",
   "metadata": {},
   "outputs": [],
   "source": [
    "def print_nulls(p_df):\n",
    "    newdict = {} #[]\n",
    "    print ('No of Rows:', p_df.shape[0],' Columns:',p_df.shape[1])\n",
    "    for i in p_df.columns:\n",
    "        if p_df[i].isnull().sum() > 0:\n",
    "            newdict[i] = p_df[i].isnull().sum()\n",
    "    dic2=dict(sorted(newdict.items(),key = lambda x:x[1],reverse=True))\n",
    "    print('{:15s} {:8s} {:5s}'.format('---------------','------','--------','-----'))\n",
    "    print('{:15s} {:8s} {:5s}'.format('COLUMN_NAME','  TYPE','   NULLS','  %'))\n",
    "    print('{:15s} {:8s} {:5s}'.format('---------------','------','--------','-----'))\n",
    "    for i in dic2.items():\n",
    "        print('{:15s} {:8d} {:5.2f}'.format(i[0], i[1], np.round(i[1]*100/p_df.shape[0],2)))"
   ]
  },
  {
   "cell_type": "code",
   "execution_count": 148,
   "id": "5e69da6f",
   "metadata": {},
   "outputs": [],
   "source": [
    "# This will convert a categorical column into numerical multiple columns\n",
    "# and drop the original column\n",
    "def categorical_to_numerical(p_df, p_field):\n",
    "    df1 = pd.get_dummies(p_df[p_field], drop_first=True)\n",
    "    df2 = p_df.drop([p_field], axis=1)\n",
    "    df2 = pd.concat([df2,df1], axis=1)\n",
    "    return df2"
   ]
  },
  {
   "cell_type": "code",
   "execution_count": 149,
   "id": "7f8d9202",
   "metadata": {},
   "outputs": [],
   "source": [
    "# This will replace NaN values in a column with the mean of the column\n",
    "def replace_nulls_with_mean(p_df, p_field):\n",
    "    p_df[p_field]= p_df[p_field].fillna(p_df[p_field].mean())\n",
    "    return p_df"
   ]
  },
  {
   "cell_type": "code",
   "execution_count": 150,
   "id": "ec0554b5",
   "metadata": {},
   "outputs": [],
   "source": [
    "# This will replace NaN values in the column with the median of the column\n",
    "def replace_nulls_with_median(p_df, p_field):\n",
    "    p_df[p_field]= p_df[p_field].fillna(p_df[p_field].median())\n",
    "    return p_df"
   ]
  },
  {
   "cell_type": "code",
   "execution_count": 151,
   "id": "bd787a4b",
   "metadata": {},
   "outputs": [],
   "source": [
    "# This will replace NaN values in the column with the mode of the column\n",
    "def replace_nulls_with_mode(p_df, p_field):\n",
    "    p_df[p_field]= p_df[p_field].fillna(p_df[p_field].mode()[0])\n",
    "    return p_df"
   ]
  },
  {
   "cell_type": "code",
   "execution_count": 152,
   "id": "4b13a5be",
   "metadata": {},
   "outputs": [],
   "source": [
    "# This will replace NaN values in the column with the given value 'p_value'\n",
    "def replace_nulls_with_value(p_df, p_field, p_value):\n",
    "    p_df[p_field]= p_df[p_field].fillna(p_value)\n",
    "    return p_df"
   ]
  },
  {
   "cell_type": "code",
   "execution_count": 153,
   "id": "024e1d5a",
   "metadata": {},
   "outputs": [
    {
     "name": "stdout",
     "output_type": "stream",
     "text": [
      "No of Rows: 1460  Columns: 81\n",
      "--------------- ------   --------\n",
      "COLUMN_NAME       TYPE      NULLS\n",
      "--------------- ------   --------\n",
      "PoolQC              1453 99.52\n",
      "MiscFeature         1406 96.30\n",
      "Alley               1369 93.77\n",
      "Fence               1179 80.75\n",
      "FireplaceQu          690 47.26\n",
      "SalePrice            292 20.00\n",
      "LotFrontage          259 17.74\n",
      "GarageType            81  5.55\n",
      "GarageYrBlt           81  5.55\n",
      "GarageFinish          81  5.55\n",
      "GarageQual            81  5.55\n",
      "GarageCond            81  5.55\n",
      "BsmtExposure          38  2.60\n",
      "BsmtFinType2          38  2.60\n",
      "BsmtQual              37  2.53\n",
      "BsmtCond              37  2.53\n",
      "BsmtFinType1          37  2.53\n",
      "MasVnrType             8  0.55\n",
      "MasVnrArea             8  0.55\n",
      "Electrical             1  0.07\n"
     ]
    }
   ],
   "source": [
    "print_nulls(dfn)"
   ]
  },
  {
   "cell_type": "code",
   "execution_count": 154,
   "id": "0acda512",
   "metadata": {},
   "outputs": [],
   "source": [
    "# PoolQC              1453 99.52\n",
    "# MiscFeature         1406 96.30\n",
    "# Alley               1369 93.77\n",
    "# Fence               1179 80.75\n",
    "# Hence we need to drop PoolQC,MiscFeature,Alley,Fence\n",
    "dfn.drop(['PoolQC','MiscFeature','Alley','Fence'], axis=1, inplace=True)"
   ]
  },
  {
   "cell_type": "code",
   "execution_count": 155,
   "id": "7410f352",
   "metadata": {},
   "outputs": [
    {
     "name": "stdout",
     "output_type": "stream",
     "text": [
      "<class 'pandas.core.frame.DataFrame'>\n",
      "RangeIndex: 1460 entries, 0 to 1459\n",
      "Data columns (total 77 columns):\n",
      " #   Column         Non-Null Count  Dtype  \n",
      "---  ------         --------------  -----  \n",
      " 0   Id             1460 non-null   int64  \n",
      " 1   MSSubClass     1460 non-null   int64  \n",
      " 2   MSZoning       1460 non-null   object \n",
      " 3   LotFrontage    1201 non-null   float64\n",
      " 4   LotArea        1460 non-null   int64  \n",
      " 5   Street         1460 non-null   object \n",
      " 6   LotShape       1460 non-null   object \n",
      " 7   LandContour    1460 non-null   object \n",
      " 8   Utilities      1460 non-null   object \n",
      " 9   LotConfig      1460 non-null   object \n",
      " 10  LandSlope      1460 non-null   object \n",
      " 11  Neighborhood   1460 non-null   object \n",
      " 12  Condition1     1460 non-null   object \n",
      " 13  Condition2     1460 non-null   object \n",
      " 14  BldgType       1460 non-null   object \n",
      " 15  HouseStyle     1460 non-null   object \n",
      " 16  OverallQual    1460 non-null   int64  \n",
      " 17  OverallCond    1460 non-null   int64  \n",
      " 18  YearBuilt      1460 non-null   int64  \n",
      " 19  YearRemodAdd   1460 non-null   int64  \n",
      " 20  RoofStyle      1460 non-null   object \n",
      " 21  RoofMatl       1460 non-null   object \n",
      " 22  Exterior1st    1460 non-null   object \n",
      " 23  Exterior2nd    1460 non-null   object \n",
      " 24  MasVnrType     1452 non-null   object \n",
      " 25  MasVnrArea     1452 non-null   float64\n",
      " 26  ExterQual      1460 non-null   object \n",
      " 27  ExterCond      1460 non-null   object \n",
      " 28  Foundation     1460 non-null   object \n",
      " 29  BsmtQual       1423 non-null   object \n",
      " 30  BsmtCond       1423 non-null   object \n",
      " 31  BsmtExposure   1422 non-null   object \n",
      " 32  BsmtFinType1   1423 non-null   object \n",
      " 33  BsmtFinSF1     1460 non-null   int64  \n",
      " 34  BsmtFinType2   1422 non-null   object \n",
      " 35  BsmtFinSF2     1460 non-null   int64  \n",
      " 36  BsmtUnfSF      1460 non-null   int64  \n",
      " 37  TotalBsmtSF    1460 non-null   int64  \n",
      " 38  Heating        1460 non-null   object \n",
      " 39  HeatingQC      1460 non-null   object \n",
      " 40  CentralAir     1460 non-null   object \n",
      " 41  Electrical     1459 non-null   object \n",
      " 42  1stFlrSF       1460 non-null   int64  \n",
      " 43  2ndFlrSF       1460 non-null   int64  \n",
      " 44  LowQualFinSF   1460 non-null   int64  \n",
      " 45  GrLivArea      1460 non-null   int64  \n",
      " 46  BsmtFullBath   1460 non-null   int64  \n",
      " 47  BsmtHalfBath   1460 non-null   int64  \n",
      " 48  FullBath       1460 non-null   int64  \n",
      " 49  HalfBath       1460 non-null   int64  \n",
      " 50  BedroomAbvGr   1460 non-null   int64  \n",
      " 51  KitchenAbvGr   1460 non-null   int64  \n",
      " 52  KitchenQual    1460 non-null   object \n",
      " 53  TotRmsAbvGrd   1460 non-null   int64  \n",
      " 54  Functional     1460 non-null   object \n",
      " 55  Fireplaces     1460 non-null   int64  \n",
      " 56  FireplaceQu    770 non-null    object \n",
      " 57  GarageType     1379 non-null   object \n",
      " 58  GarageYrBlt    1379 non-null   float64\n",
      " 59  GarageFinish   1379 non-null   object \n",
      " 60  GarageCars     1460 non-null   int64  \n",
      " 61  GarageArea     1460 non-null   int64  \n",
      " 62  GarageQual     1379 non-null   object \n",
      " 63  GarageCond     1379 non-null   object \n",
      " 64  PavedDrive     1460 non-null   object \n",
      " 65  WoodDeckSF     1460 non-null   int64  \n",
      " 66  OpenPorchSF    1460 non-null   int64  \n",
      " 67  EnclosedPorch  1460 non-null   int64  \n",
      " 68  3SsnPorch      1460 non-null   int64  \n",
      " 69  ScreenPorch    1460 non-null   int64  \n",
      " 70  PoolArea       1460 non-null   int64  \n",
      " 71  MiscVal        1460 non-null   int64  \n",
      " 72  MoSold         1460 non-null   int64  \n",
      " 73  YrSold         1460 non-null   int64  \n",
      " 74  SaleType       1460 non-null   object \n",
      " 75  SaleCondition  1460 non-null   object \n",
      " 76  SalePrice      1168 non-null   float64\n",
      "dtypes: float64(4), int64(34), object(39)\n",
      "memory usage: 878.4+ KB\n"
     ]
    }
   ],
   "source": [
    "#dfn['FireplaceQu'].value_counts()\n",
    "dfn.info()"
   ]
  },
  {
   "cell_type": "code",
   "execution_count": 156,
   "id": "560b6224",
   "metadata": {},
   "outputs": [
    {
     "data": {
      "text/plain": [
       "<AxesSubplot:xlabel='LotFrontage'>"
      ]
     },
     "execution_count": 156,
     "metadata": {},
     "output_type": "execute_result"
    },
    {
     "data": {
      "image/png": "[encoded data removed]",
      "text/plain": [
       "<Figure size 432x288 with 1 Axes>"
      ]
     },
     "metadata": {
      "needs_background": "light"
     },
     "output_type": "display_data"
    }
   ],
   "source": [
    "# Let's examine LotFrontage (float64)\n",
    "import seaborn as sns\n",
    "sns.boxplot(dfn.LotFrontage)"
   ]
  },
  {
   "cell_type": "code",
   "execution_count": 157,
   "id": "11ac1c2a",
   "metadata": {},
   "outputs": [],
   "source": [
    "# data is skewed with outliers too. it's type is float64\n",
    "# We'll use mode for filling null values\n",
    "dfn=replace_nulls_with_mode(dfn, 'LotFrontage')"
   ]
  },
  {
   "cell_type": "code",
   "execution_count": 158,
   "id": "bb513fde",
   "metadata": {},
   "outputs": [
    {
     "name": "stdout",
     "output_type": "stream",
     "text": [
      "No of Rows: 1460  Columns: 77\n",
      "--------------- ------   --------\n",
      "COLUMN_NAME       TYPE      NULLS\n",
      "--------------- ------   --------\n",
      "FireplaceQu          690 47.26\n",
      "SalePrice            292 20.00\n",
      "GarageType            81  5.55\n",
      "GarageYrBlt           81  5.55\n",
      "GarageFinish          81  5.55\n",
      "GarageQual            81  5.55\n",
      "GarageCond            81  5.55\n",
      "BsmtExposure          38  2.60\n",
      "BsmtFinType2          38  2.60\n",
      "BsmtQual              37  2.53\n",
      "BsmtCond              37  2.53\n",
      "BsmtFinType1          37  2.53\n",
      "MasVnrType             8  0.55\n",
      "MasVnrArea             8  0.55\n",
      "Electrical             1  0.07\n"
     ]
    }
   ],
   "source": [
    "print_nulls(dfn)"
   ]
  },
  {
   "cell_type": "code",
   "execution_count": 159,
   "id": "7ac5f436",
   "metadata": {},
   "outputs": [
    {
     "data": {
      "text/plain": [
       "Gd    380\n",
       "TA    313\n",
       "Fa     33\n",
       "Ex     24\n",
       "Po     20\n",
       "Name: FireplaceQu, dtype: int64"
      ]
     },
     "execution_count": 159,
     "metadata": {},
     "output_type": "execute_result"
    }
   ],
   "source": [
    "dfn['FireplaceQu'].value_counts()"
   ]
  },
  {
   "cell_type": "code",
   "execution_count": 160,
   "id": "282b7292",
   "metadata": {},
   "outputs": [],
   "source": [
    "# From the data description we see that NA: No Fireplace can be put in place of missing values\n",
    "dfn = replace_nulls_with_value(dfn,'FireplaceQu','NA')"
   ]
  },
  {
   "cell_type": "code",
   "execution_count": 161,
   "id": "10b64bce",
   "metadata": {},
   "outputs": [
    {
     "name": "stdout",
     "output_type": "stream",
     "text": [
      "No of Rows: 1460  Columns: 77\n",
      "--------------- ------   --------\n",
      "COLUMN_NAME       TYPE      NULLS\n",
      "--------------- ------   --------\n",
      "SalePrice            292 20.00\n",
      "GarageType            81  5.55\n",
      "GarageYrBlt           81  5.55\n",
      "GarageFinish          81  5.55\n",
      "GarageQual            81  5.55\n",
      "GarageCond            81  5.55\n",
      "BsmtExposure          38  2.60\n",
      "BsmtFinType2          38  2.60\n",
      "BsmtQual              37  2.53\n",
      "BsmtCond              37  2.53\n",
      "BsmtFinType1          37  2.53\n",
      "MasVnrType             8  0.55\n",
      "MasVnrArea             8  0.55\n",
      "Electrical             1  0.07\n"
     ]
    }
   ],
   "source": [
    "print_nulls(dfn)"
   ]
  },
  {
   "cell_type": "code",
   "execution_count": 162,
   "id": "447b8f9f",
   "metadata": {},
   "outputs": [
    {
     "data": {
      "text/plain": [
       "Attchd     870\n",
       "Detchd     387\n",
       "BuiltIn     88\n",
       "Basment     19\n",
       "CarPort      9\n",
       "2Types       6\n",
       "Name: GarageType, dtype: int64"
      ]
     },
     "execution_count": 162,
     "metadata": {},
     "output_type": "execute_result"
    }
   ],
   "source": [
    "dfn['GarageType'].value_counts()"
   ]
  },
  {
   "cell_type": "code",
   "execution_count": 163,
   "id": "a8a47176",
   "metadata": {},
   "outputs": [],
   "source": [
    "# For GarageType type we can replace NA: No Garage\n",
    "dfn = replace_nulls_with_value(dfn,'GarageType','NA')"
   ]
  },
  {
   "cell_type": "code",
   "execution_count": 164,
   "id": "59f0437c",
   "metadata": {},
   "outputs": [
    {
     "name": "stdout",
     "output_type": "stream",
     "text": [
      "No of Rows: 1460  Columns: 77\n",
      "--------------- ------   --------\n",
      "COLUMN_NAME       TYPE      NULLS\n",
      "--------------- ------   --------\n",
      "SalePrice            292 20.00\n",
      "GarageYrBlt           81  5.55\n",
      "GarageFinish          81  5.55\n",
      "GarageQual            81  5.55\n",
      "GarageCond            81  5.55\n",
      "BsmtExposure          38  2.60\n",
      "BsmtFinType2          38  2.60\n",
      "BsmtQual              37  2.53\n",
      "BsmtCond              37  2.53\n",
      "BsmtFinType1          37  2.53\n",
      "MasVnrType             8  0.55\n",
      "MasVnrArea             8  0.55\n",
      "Electrical             1  0.07\n"
     ]
    }
   ],
   "source": [
    "print_nulls(dfn)"
   ]
  },
  {
   "cell_type": "code",
   "execution_count": 165,
   "id": "048d5591",
   "metadata": {},
   "outputs": [
    {
     "data": {
      "text/plain": [
       "2005.0    65\n",
       "2006.0    59\n",
       "2004.0    53\n",
       "2003.0    50\n",
       "2007.0    49\n",
       "          ..\n",
       "1900.0     1\n",
       "1908.0     1\n",
       "1933.0     1\n",
       "1906.0     1\n",
       "1927.0     1\n",
       "Name: GarageYrBlt, Length: 97, dtype: int64"
      ]
     },
     "execution_count": 165,
     "metadata": {},
     "output_type": "execute_result"
    }
   ],
   "source": [
    "dfn['GarageYrBlt'].value_counts()"
   ]
  },
  {
   "cell_type": "code",
   "execution_count": 166,
   "id": "89e7d49a",
   "metadata": {},
   "outputs": [
    {
     "data": {
      "text/plain": [
       "<AxesSubplot:xlabel='GarageYrBlt'>"
      ]
     },
     "execution_count": 166,
     "metadata": {},
     "output_type": "execute_result"
    },
    {
     "data": {
      "image/png": "[encoded data removed]",
      "text/plain": [
       "<Figure size 432x288 with 1 Axes>"
      ]
     },
     "metadata": {
      "needs_background": "light"
     },
     "output_type": "display_data"
    }
   ],
   "source": [
    "import seaborn as sns\n",
    "sns.boxplot(dfn.GarageYrBlt)"
   ]
  },
  {
   "cell_type": "code",
   "execution_count": 167,
   "id": "be01206c",
   "metadata": {},
   "outputs": [
    {
     "name": "stdout",
     "output_type": "stream",
     "text": [
      "Mean: 1978.5061638868744   Median: 1980.0   Mode: 2005.0\n"
     ]
    }
   ],
   "source": [
    "print('Mean:',dfn['GarageYrBlt'].mean(),'  Median:',dfn['GarageYrBlt'].median(),'  Mode:',dfn['GarageYrBlt'].mode()[0])"
   ]
  },
  {
   "cell_type": "code",
   "execution_count": 168,
   "id": "af56b560",
   "metadata": {},
   "outputs": [
    {
     "data": {
      "text/plain": [
       "<AxesSubplot:xlabel='GarageYrBlt', ylabel='Density'>"
      ]
     },
     "execution_count": 168,
     "metadata": {},
     "output_type": "execute_result"
    },
    {
     "data": {
      "image/png": "[encoded data removed]",
      "text/plain": [
       "<Figure size 720x576 with 1 Axes>"
      ]
     },
     "metadata": {
      "needs_background": "light"
     },
     "output_type": "display_data"
    }
   ],
   "source": [
    "fig, ax = plt.subplots(figsize=(10,8))\n",
    "sns.distplot(dfn.GarageYrBlt)"
   ]
  },
  {
   "cell_type": "code",
   "execution_count": 169,
   "id": "c82f471b",
   "metadata": {},
   "outputs": [
    {
     "data": {
      "text/html": [
       "<div>\n",
       "<style scoped>\n",
       "    .dataframe tbody tr th:only-of-type {\n",
       "        vertical-align: middle;\n",
       "    }\n",
       "\n",
       "    .dataframe tbody tr th {\n",
       "        vertical-align: top;\n",
       "    }\n",
       "\n",
       "    .dataframe thead th {\n",
       "        text-align: right;\n",
       "    }\n",
       "</style>\n",
       "<table border=\"1\" class=\"dataframe\">\n",
       "  <thead>\n",
       "    <tr style=\"text-align: right;\">\n",
       "      <th></th>\n",
       "      <th>YearBuilt</th>\n",
       "      <th>GarageYrBlt</th>\n",
       "    </tr>\n",
       "  </thead>\n",
       "  <tbody>\n",
       "    <tr>\n",
       "      <th>48</th>\n",
       "      <td>1946</td>\n",
       "      <td>NaN</td>\n",
       "    </tr>\n",
       "    <tr>\n",
       "      <th>72</th>\n",
       "      <td>1935</td>\n",
       "      <td>NaN</td>\n",
       "    </tr>\n",
       "    <tr>\n",
       "      <th>74</th>\n",
       "      <td>1931</td>\n",
       "      <td>NaN</td>\n",
       "    </tr>\n",
       "    <tr>\n",
       "      <th>105</th>\n",
       "      <td>1971</td>\n",
       "      <td>NaN</td>\n",
       "    </tr>\n",
       "    <tr>\n",
       "      <th>116</th>\n",
       "      <td>2004</td>\n",
       "      <td>NaN</td>\n",
       "    </tr>\n",
       "    <tr>\n",
       "      <th>...</th>\n",
       "      <td>...</td>\n",
       "      <td>...</td>\n",
       "    </tr>\n",
       "    <tr>\n",
       "      <th>1382</th>\n",
       "      <td>1922</td>\n",
       "      <td>NaN</td>\n",
       "    </tr>\n",
       "    <tr>\n",
       "      <th>1383</th>\n",
       "      <td>1872</td>\n",
       "      <td>NaN</td>\n",
       "    </tr>\n",
       "    <tr>\n",
       "      <th>1385</th>\n",
       "      <td>1955</td>\n",
       "      <td>NaN</td>\n",
       "    </tr>\n",
       "    <tr>\n",
       "      <th>1386</th>\n",
       "      <td>1994</td>\n",
       "      <td>NaN</td>\n",
       "    </tr>\n",
       "    <tr>\n",
       "      <th>1424</th>\n",
       "      <td>1919</td>\n",
       "      <td>NaN</td>\n",
       "    </tr>\n",
       "  </tbody>\n",
       "</table>\n",
       "<p>81 rows × 2 columns</p>\n",
       "</div>"
      ],
      "text/plain": [
       "      YearBuilt  GarageYrBlt\n",
       "48         1946          NaN\n",
       "72         1935          NaN\n",
       "74         1931          NaN\n",
       "105        1971          NaN\n",
       "116        2004          NaN\n",
       "...         ...          ...\n",
       "1382       1922          NaN\n",
       "1383       1872          NaN\n",
       "1385       1955          NaN\n",
       "1386       1994          NaN\n",
       "1424       1919          NaN\n",
       "\n",
       "[81 rows x 2 columns]"
      ]
     },
     "execution_count": 169,
     "metadata": {},
     "output_type": "execute_result"
    }
   ],
   "source": [
    "# for GarageYrBlt\n",
    "dfn[['YearBuilt','GarageYrBlt']][pd.isna(dfn['GarageYrBlt'])]"
   ]
  },
  {
   "cell_type": "code",
   "execution_count": 186,
   "id": "81a970a1",
   "metadata": {},
   "outputs": [],
   "source": [
    "# GarageYrBlt has 81 null values. It'll be OK to replace GarageYrBlt with the YearBuilt for NaN values.\n",
    "for i in range(0,len(dfn['GarageYrBlt'])):\n",
    "    if np.isnan(dfn['GarageYrBlt'][i]):\n",
    "        dfn['GarageYrBlt'][i]= dfn['YearBuilt'][i]"
   ]
  },
  {
   "cell_type": "code",
   "execution_count": 187,
   "id": "0391ca0a",
   "metadata": {},
   "outputs": [
    {
     "name": "stdout",
     "output_type": "stream",
     "text": [
      "No of Rows: 1460  Columns: 77\n",
      "--------------- ------   --------\n",
      "COLUMN_NAME       TYPE      NULLS\n",
      "--------------- ------   --------\n",
      "SalePrice            292 20.00\n",
      "GarageFinish          81  5.55\n",
      "GarageQual            81  5.55\n",
      "GarageCond            81  5.55\n",
      "BsmtExposure          38  2.60\n",
      "BsmtFinType2          38  2.60\n",
      "BsmtQual              37  2.53\n",
      "BsmtCond              37  2.53\n",
      "BsmtFinType1          37  2.53\n",
      "MasVnrType             8  0.55\n",
      "MasVnrArea             8  0.55\n",
      "Electrical             1  0.07\n"
     ]
    }
   ],
   "source": [
    "print_nulls(dfn)"
   ]
  },
  {
   "cell_type": "code",
   "execution_count": 40,
   "id": "89246608",
   "metadata": {},
   "outputs": [],
   "source": [
    "# dfx = dfn[['GarageFinish','GarageType','GarageYrBlt','GarageFinish','GarageCars','GarageArea','GarageQual','GarageCond']][pd.isna(dfn['GarageYrBlt'])]"
   ]
  },
  {
   "cell_type": "code",
   "execution_count": 188,
   "id": "a0b5075e",
   "metadata": {},
   "outputs": [],
   "source": [
    "# dfx.shape"
   ]
  },
  {
   "cell_type": "code",
   "execution_count": null,
   "id": "1e928f39",
   "metadata": {},
   "outputs": [],
   "source": []
  },
  {
   "cell_type": "code",
   "execution_count": 189,
   "id": "1d831825",
   "metadata": {},
   "outputs": [],
   "source": [
    "# Data is skewed. Mode seems the best choice here for filling NaN\n",
    "# dfn = replace_nulls_with_mode(dfn,'GarageYrBlt')"
   ]
  },
  {
   "cell_type": "code",
   "execution_count": 190,
   "id": "88457160",
   "metadata": {},
   "outputs": [
    {
     "name": "stdout",
     "output_type": "stream",
     "text": [
      "No of Rows: 1460  Columns: 77\n",
      "--------------- ------   --------\n",
      "COLUMN_NAME       TYPE      NULLS\n",
      "--------------- ------   --------\n",
      "SalePrice            292 20.00\n",
      "GarageFinish          81  5.55\n",
      "GarageQual            81  5.55\n",
      "GarageCond            81  5.55\n",
      "BsmtExposure          38  2.60\n",
      "BsmtFinType2          38  2.60\n",
      "BsmtQual              37  2.53\n",
      "BsmtCond              37  2.53\n",
      "BsmtFinType1          37  2.53\n",
      "MasVnrType             8  0.55\n",
      "MasVnrArea             8  0.55\n",
      "Electrical             1  0.07\n"
     ]
    }
   ],
   "source": [
    "print_nulls(dfn)"
   ]
  },
  {
   "cell_type": "code",
   "execution_count": 191,
   "id": "4dcfe182",
   "metadata": {},
   "outputs": [],
   "source": [
    "# 'GarageFinish'. from Description text NA:No Garage \n",
    "dfn = replace_nulls_with_value(dfn,'GarageFinish','NA')"
   ]
  },
  {
   "cell_type": "code",
   "execution_count": 192,
   "id": "b2a95f4d",
   "metadata": {},
   "outputs": [],
   "source": [
    "# 'GarageQual', NA:No Garage\n",
    "dfn = replace_nulls_with_value(dfn,'GarageQual','NA')"
   ]
  },
  {
   "cell_type": "code",
   "execution_count": 193,
   "id": "91cc6b7b",
   "metadata": {},
   "outputs": [],
   "source": [
    "# 'GarageCond', NA:No Garage\n",
    "dfn = replace_nulls_with_value(dfn,'GarageCond','NA')"
   ]
  },
  {
   "cell_type": "code",
   "execution_count": 194,
   "id": "e756d886",
   "metadata": {},
   "outputs": [
    {
     "data": {
      "text/plain": [
       "No    953\n",
       "Av    221\n",
       "Gd    134\n",
       "Mn    114\n",
       "Name: BsmtExposure, dtype: int64"
      ]
     },
     "execution_count": 194,
     "metadata": {},
     "output_type": "execute_result"
    }
   ],
   "source": [
    "dfn['BsmtExposure'].value_counts()"
   ]
  },
  {
   "cell_type": "code",
   "execution_count": 195,
   "id": "1b54531a",
   "metadata": {},
   "outputs": [],
   "source": [
    "# BsmtExposure. NA:No Basement\n",
    "dfn = replace_nulls_with_value(dfn,'BsmtExposure','NA')"
   ]
  },
  {
   "cell_type": "code",
   "execution_count": 196,
   "id": "6e8b08e2",
   "metadata": {},
   "outputs": [],
   "source": [
    "# 'BsmtFinType2'. NA:No Basement\n",
    "dfn = replace_nulls_with_value(dfn,'BsmtFinType2','NA')"
   ]
  },
  {
   "cell_type": "code",
   "execution_count": 197,
   "id": "cbcaf07d",
   "metadata": {},
   "outputs": [],
   "source": [
    "# BsmtQual. NA:No Basement\n",
    "dfn = replace_nulls_with_value(dfn,'BsmtQual','NA')"
   ]
  },
  {
   "cell_type": "code",
   "execution_count": 198,
   "id": "e7c27c02",
   "metadata": {},
   "outputs": [],
   "source": [
    "# 'BsmtCond'  NA:No Basement\n",
    "dfn = replace_nulls_with_value(dfn,'BsmtCond','NA')"
   ]
  },
  {
   "cell_type": "code",
   "execution_count": 199,
   "id": "db955791",
   "metadata": {},
   "outputs": [],
   "source": [
    "# 'BsmtFinType1'. NA:No Basement\n",
    "dfn = replace_nulls_with_value(dfn,'BsmtFinType1','NA')"
   ]
  },
  {
   "cell_type": "code",
   "execution_count": 200,
   "id": "caba8a5c",
   "metadata": {},
   "outputs": [
    {
     "data": {
      "text/plain": [
       "None       864\n",
       "BrkFace    445\n",
       "Stone      128\n",
       "BrkCmn      15\n",
       "Name: MasVnrType, dtype: int64"
      ]
     },
     "execution_count": 200,
     "metadata": {},
     "output_type": "execute_result"
    }
   ],
   "source": [
    "dfn['MasVnrType'].value_counts()"
   ]
  },
  {
   "cell_type": "code",
   "execution_count": 201,
   "id": "071ff354",
   "metadata": {},
   "outputs": [],
   "source": [
    "# We'll put None in place of NaNs\n",
    "dfn = replace_nulls_with_value(dfn,'MasVnrType','None')"
   ]
  },
  {
   "cell_type": "code",
   "execution_count": 202,
   "id": "fde01d3f",
   "metadata": {},
   "outputs": [
    {
     "data": {
      "text/plain": [
       "<AxesSubplot:xlabel='MasVnrArea', ylabel='Density'>"
      ]
     },
     "execution_count": 202,
     "metadata": {},
     "output_type": "execute_result"
    },
    {
     "data": {
      "image/png": "[encoded data removed]",
      "text/plain": [
       "<Figure size 720x576 with 1 Axes>"
      ]
     },
     "metadata": {
      "needs_background": "light"
     },
     "output_type": "display_data"
    }
   ],
   "source": [
    "fig, ax = plt.subplots(figsize=(10,8))\n",
    "sns.distplot(dfn.MasVnrArea)"
   ]
  },
  {
   "cell_type": "code",
   "execution_count": 203,
   "id": "bffe126d",
   "metadata": {},
   "outputs": [
    {
     "data": {
      "text/plain": [
       "0.0       861\n",
       "72.0        8\n",
       "180.0       8\n",
       "108.0       8\n",
       "16.0        7\n",
       "         ... \n",
       "673.0       1\n",
       "280.0       1\n",
       "258.0       1\n",
       "1170.0      1\n",
       "408.0       1\n",
       "Name: MasVnrArea, Length: 327, dtype: int64"
      ]
     },
     "execution_count": 203,
     "metadata": {},
     "output_type": "execute_result"
    }
   ],
   "source": [
    "dfn.MasVnrArea.value_counts()"
   ]
  },
  {
   "cell_type": "code",
   "execution_count": 204,
   "id": "6f36e951",
   "metadata": {},
   "outputs": [
    {
     "name": "stdout",
     "output_type": "stream",
     "text": [
      "Mean: 103.68526170798899   Median: 0.0   Mode: 0    0.0\n",
      "dtype: float64\n"
     ]
    }
   ],
   "source": [
    "print('Mean:',dfn.MasVnrArea.mean(),'  Median:', dfn.MasVnrArea.median(),'  Mode:', dfn.MasVnrArea.mode() )"
   ]
  },
  {
   "cell_type": "code",
   "execution_count": 205,
   "id": "6e77c709",
   "metadata": {},
   "outputs": [],
   "source": [
    "# Data is skewed for MasVnrArea, hence we'll use Mode\n",
    "dfn = replace_nulls_with_mode(dfn,'MasVnrArea')"
   ]
  },
  {
   "cell_type": "code",
   "execution_count": 206,
   "id": "04a570bf",
   "metadata": {},
   "outputs": [
    {
     "data": {
      "text/plain": [
       "SBrkr    1334\n",
       "FuseA      94\n",
       "FuseF      27\n",
       "FuseP       3\n",
       "Mix         1\n",
       "Name: Electrical, dtype: int64"
      ]
     },
     "execution_count": 206,
     "metadata": {},
     "output_type": "execute_result"
    }
   ],
   "source": [
    "dfn['Electrical'].value_counts()"
   ]
  },
  {
   "cell_type": "code",
   "execution_count": 207,
   "id": "a8bc0004",
   "metadata": {},
   "outputs": [],
   "source": [
    "# Replacing missing 1 value with Mode for 'Electrical'\n",
    "dfn = replace_nulls_with_mode(dfn,'Electrical')"
   ]
  },
  {
   "cell_type": "code",
   "execution_count": 208,
   "id": "f2b29d86",
   "metadata": {},
   "outputs": [],
   "source": [
    "# Saving data without NaNs to a csv file for future reference\n",
    "dfn.to_csv(r'C:\\temp\\dfn_no_nulls.csv')"
   ]
  },
  {
   "cell_type": "code",
   "execution_count": 209,
   "id": "d7415b02",
   "metadata": {},
   "outputs": [
    {
     "name": "stdout",
     "output_type": "stream",
     "text": [
      "<class 'pandas.core.frame.DataFrame'>\n",
      "RangeIndex: 1460 entries, 0 to 1459\n",
      "Data columns (total 77 columns):\n",
      " #   Column         Non-Null Count  Dtype  \n",
      "---  ------         --------------  -----  \n",
      " 0   Id             1460 non-null   int64  \n",
      " 1   MSSubClass     1460 non-null   int64  \n",
      " 2   MSZoning       1460 non-null   object \n",
      " 3   LotFrontage    1460 non-null   float64\n",
      " 4   LotArea        1460 non-null   int64  \n",
      " 5   Street         1460 non-null   object \n",
      " 6   LotShape       1460 non-null   object \n",
      " 7   LandContour    1460 non-null   object \n",
      " 8   Utilities      1460 non-null   object \n",
      " 9   LotConfig      1460 non-null   object \n",
      " 10  LandSlope      1460 non-null   object \n",
      " 11  Neighborhood   1460 non-null   object \n",
      " 12  Condition1     1460 non-null   object \n",
      " 13  Condition2     1460 non-null   object \n",
      " 14  BldgType       1460 non-null   object \n",
      " 15  HouseStyle     1460 non-null   object \n",
      " 16  OverallQual    1460 non-null   int64  \n",
      " 17  OverallCond    1460 non-null   int64  \n",
      " 18  YearBuilt      1460 non-null   int64  \n",
      " 19  YearRemodAdd   1460 non-null   int64  \n",
      " 20  RoofStyle      1460 non-null   object \n",
      " 21  RoofMatl       1460 non-null   object \n",
      " 22  Exterior1st    1460 non-null   object \n",
      " 23  Exterior2nd    1460 non-null   object \n",
      " 24  MasVnrType     1460 non-null   object \n",
      " 25  MasVnrArea     1460 non-null   float64\n",
      " 26  ExterQual      1460 non-null   object \n",
      " 27  ExterCond      1460 non-null   object \n",
      " 28  Foundation     1460 non-null   object \n",
      " 29  BsmtQual       1460 non-null   object \n",
      " 30  BsmtCond       1460 non-null   object \n",
      " 31  BsmtExposure   1460 non-null   object \n",
      " 32  BsmtFinType1   1460 non-null   object \n",
      " 33  BsmtFinSF1     1460 non-null   int64  \n",
      " 34  BsmtFinType2   1460 non-null   object \n",
      " 35  BsmtFinSF2     1460 non-null   int64  \n",
      " 36  BsmtUnfSF      1460 non-null   int64  \n",
      " 37  TotalBsmtSF    1460 non-null   int64  \n",
      " 38  Heating        1460 non-null   object \n",
      " 39  HeatingQC      1460 non-null   object \n",
      " 40  CentralAir     1460 non-null   object \n",
      " 41  Electrical     1460 non-null   object \n",
      " 42  1stFlrSF       1460 non-null   int64  \n",
      " 43  2ndFlrSF       1460 non-null   int64  \n",
      " 44  LowQualFinSF   1460 non-null   int64  \n",
      " 45  GrLivArea      1460 non-null   int64  \n",
      " 46  BsmtFullBath   1460 non-null   int64  \n",
      " 47  BsmtHalfBath   1460 non-null   int64  \n",
      " 48  FullBath       1460 non-null   int64  \n",
      " 49  HalfBath       1460 non-null   int64  \n",
      " 50  BedroomAbvGr   1460 non-null   int64  \n",
      " 51  KitchenAbvGr   1460 non-null   int64  \n",
      " 52  KitchenQual    1460 non-null   object \n",
      " 53  TotRmsAbvGrd   1460 non-null   int64  \n",
      " 54  Functional     1460 non-null   object \n",
      " 55  Fireplaces     1460 non-null   int64  \n",
      " 56  FireplaceQu    1460 non-null   object \n",
      " 57  GarageType     1460 non-null   object \n",
      " 58  GarageYrBlt    1460 non-null   float64\n",
      " 59  GarageFinish   1460 non-null   object \n",
      " 60  GarageCars     1460 non-null   int64  \n",
      " 61  GarageArea     1460 non-null   int64  \n",
      " 62  GarageQual     1460 non-null   object \n",
      " 63  GarageCond     1460 non-null   object \n",
      " 64  PavedDrive     1460 non-null   object \n",
      " 65  WoodDeckSF     1460 non-null   int64  \n",
      " 66  OpenPorchSF    1460 non-null   int64  \n",
      " 67  EnclosedPorch  1460 non-null   int64  \n",
      " 68  3SsnPorch      1460 non-null   int64  \n",
      " 69  ScreenPorch    1460 non-null   int64  \n",
      " 70  PoolArea       1460 non-null   int64  \n",
      " 71  MiscVal        1460 non-null   int64  \n",
      " 72  MoSold         1460 non-null   int64  \n",
      " 73  YrSold         1460 non-null   int64  \n",
      " 74  SaleType       1460 non-null   object \n",
      " 75  SaleCondition  1460 non-null   object \n",
      " 76  SalePrice      1168 non-null   float64\n",
      "dtypes: float64(4), int64(34), object(39)\n",
      "memory usage: 878.4+ KB\n"
     ]
    }
   ],
   "source": [
    "dfn.info()"
   ]
  },
  {
   "cell_type": "code",
   "execution_count": 210,
   "id": "6e69fe51",
   "metadata": {},
   "outputs": [
    {
     "data": {
      "text/plain": [
       "(1460, 77)"
      ]
     },
     "execution_count": 210,
     "metadata": {},
     "output_type": "execute_result"
    }
   ],
   "source": [
    "dfn.shape"
   ]
  },
  {
   "cell_type": "code",
   "execution_count": 211,
   "id": "50a3b1ce",
   "metadata": {},
   "outputs": [],
   "source": [
    "# Now let's convert all categorial columns to numerical columns and drop the original columns\n",
    "# Here we'll make a new DataFrame\n",
    "dfnn = dfn\n",
    "for i in dfnn.columns:\n",
    "    if (object==dfnn[i].dtype):\n",
    "        dfnn = categorical_to_numerical(dfnn,dfnn[i].name)"
   ]
  },
  {
   "cell_type": "code",
   "execution_count": 212,
   "id": "25146b52",
   "metadata": {},
   "outputs": [
    {
     "data": {
      "text/plain": [
       "(1460, 248)"
      ]
     },
     "execution_count": 212,
     "metadata": {},
     "output_type": "execute_result"
    }
   ],
   "source": [
    "dfnn.shape"
   ]
  },
  {
   "cell_type": "code",
   "execution_count": 213,
   "id": "e6511442",
   "metadata": {},
   "outputs": [],
   "source": [
    "#plt.figure(figsize=(30,30))\n",
    "#sns.heatmap(dfnn.corr(),cmap='flare',annot=True)\n",
    "#plt.show()"
   ]
  },
  {
   "cell_type": "code",
   "execution_count": 214,
   "id": "80b24f24",
   "metadata": {},
   "outputs": [],
   "source": [
    "# Separate train data from the consolidated data\n",
    "X = dfnn.drop(dfnn[pd.isna(dfnn.SalePrice)].index)\n",
    "y = X['SalePrice']\n",
    "X = X.drop(['SalePrice','Id'], axis=1)\n",
    "#dfn_train.drop(['Id'], axis=1, inplace=True)"
   ]
  },
  {
   "cell_type": "code",
   "execution_count": 215,
   "id": "2d0f1a67",
   "metadata": {},
   "outputs": [],
   "source": [
    "# from sklearn.preprocessing import StandardScaler\n",
    "# scaler = StandardScaler()                # Instantiate the object\n",
    "# X_scaled = scaler.fit_transform(X)       # It will apply the formula and transform data\n",
    "# Standardization is applied to features not the label.\n",
    "# X contains only the features data and not the label"
   ]
  },
  {
   "cell_type": "code",
   "execution_count": 216,
   "id": "80f6b425",
   "metadata": {},
   "outputs": [],
   "source": [
    "# df_scaled = pd.DataFrame(X_scaled)"
   ]
  },
  {
   "cell_type": "code",
   "execution_count": 217,
   "id": "39849677",
   "metadata": {},
   "outputs": [],
   "source": [
    "# Function to get highly corelated columns\n",
    "def correlation(dataset, threshold):\n",
    "    col_corr = set()  # Set of all the names of correlated columns\n",
    "    corr_matrix = dataset.corr()\n",
    "    for i in range(len(corr_matrix.columns)):\n",
    "        for j in range(i):\n",
    "            if abs(corr_matrix.iloc[i,j]) > threshold:\n",
    "                colname = corr_matrix.columns[i]\n",
    "                col_corr.add(colname)\n",
    "    return col_corr"
   ]
  },
  {
   "cell_type": "code",
   "execution_count": 218,
   "id": "e4b5a1e0",
   "metadata": {},
   "outputs": [
    {
     "data": {
      "text/plain": [
       "{'1Story',\n",
       " '1stFlrSF',\n",
       " '2Story',\n",
       " 'Brk Cmn',\n",
       " 'BrkFace',\n",
       " 'BsmtFullBath',\n",
       " 'CmentBd',\n",
       " 'Detchd',\n",
       " 'Duplex',\n",
       " 'FullBath',\n",
       " 'GarageArea',\n",
       " 'GarageCars',\n",
       " 'GarageYrBlt',\n",
       " 'GasW',\n",
       " 'Gd',\n",
       " 'GrLivArea',\n",
       " 'HdBoard',\n",
       " 'Hip',\n",
       " 'MetalSd',\n",
       " 'Mix',\n",
       " 'NA',\n",
       " 'None',\n",
       " 'Norm',\n",
       " 'Normal',\n",
       " 'PConc',\n",
       " 'Partial',\n",
       " 'Plywood',\n",
       " 'Po',\n",
       " 'RM',\n",
       " 'Shed',\n",
       " 'Somerst',\n",
       " 'Stucco',\n",
       " 'TA',\n",
       " 'Tar&Grv',\n",
       " 'TotRmsAbvGrd',\n",
       " 'Unf',\n",
       " 'VinylSd',\n",
       " 'WD',\n",
       " 'Wd Sdng'}"
      ]
     },
     "execution_count": 218,
     "metadata": {},
     "output_type": "execute_result"
    }
   ],
   "source": [
    "# Here we want to list all the columns that have corelation more than 60%\n",
    "corr_features = correlation(X, 0.6)\n",
    "corr_features"
   ]
  },
  {
   "cell_type": "code",
   "execution_count": 219,
   "id": "cb92215b",
   "metadata": {},
   "outputs": [],
   "source": [
    "X1 = X.drop(corr_features, axis=1)"
   ]
  },
  {
   "cell_type": "code",
   "execution_count": 220,
   "id": "68ca737e",
   "metadata": {},
   "outputs": [
    {
     "data": {
      "text/plain": [
       "(1168, 165)"
      ]
     },
     "execution_count": 220,
     "metadata": {},
     "output_type": "execute_result"
    }
   ],
   "source": [
    "X1.shape"
   ]
  },
  {
   "cell_type": "code",
   "execution_count": 221,
   "id": "6b4c3436",
   "metadata": {},
   "outputs": [],
   "source": [
    "# Lets for the time being split data in train and test from within the training data\n",
    "from sklearn.model_selection import train_test_split\n",
    "\n",
    "#X = dfn_train.drop(['SalePrice'], axis=1)\n",
    "#y = dfn_train['SalePrice']\n",
    "X_train, X_test, rdkin, y_test= train_test_split(X1, y, test_size=0.20, random_state=35) "
   ]
  },
  {
   "cell_type": "code",
   "execution_count": 222,
   "id": "8696d67e",
   "metadata": {},
   "outputs": [
    {
     "data": {
      "text/plain": [
       "LinearRegression()"
      ]
     },
     "execution_count": 222,
     "metadata": {},
     "output_type": "execute_result"
    }
   ],
   "source": [
    "from sklearn.linear_model import LinearRegression\n",
    "linear_reg = LinearRegression()     # instantiate the linear regression object\n",
    "linear_reg.fit(X_train, y_train)    # train the model for testing only"
   ]
  },
  {
   "cell_type": "code",
   "execution_count": 223,
   "id": "d28ded39",
   "metadata": {},
   "outputs": [
    {
     "data": {
      "text/plain": [
       "0.8941285242551542"
      ]
     },
     "execution_count": 223,
     "metadata": {},
     "output_type": "execute_result"
    }
   ],
   "source": [
    "linear_reg.score(X_train, y_train)"
   ]
  },
  {
   "cell_type": "code",
   "execution_count": 224,
   "id": "5ad1d92f",
   "metadata": {},
   "outputs": [
    {
     "data": {
      "text/plain": [
       "0.5876924835342399"
      ]
     },
     "execution_count": 224,
     "metadata": {},
     "output_type": "execute_result"
    }
   ],
   "source": [
    "linear_reg.score(X_test, y_test)"
   ]
  },
  {
   "cell_type": "code",
   "execution_count": 225,
   "id": "d6dcd118",
   "metadata": {},
   "outputs": [
    {
     "data": {
      "text/plain": [
       "LinearRegression()"
      ]
     },
     "execution_count": 225,
     "metadata": {},
     "output_type": "execute_result"
    }
   ],
   "source": [
    "# Now training model on the full training data\n",
    "linear_reg.fit(X1, y)"
   ]
  },
  {
   "cell_type": "code",
   "execution_count": 226,
   "id": "4dee135f",
   "metadata": {},
   "outputs": [
    {
     "data": {
      "text/plain": [
       "0.8760207735272164"
      ]
     },
     "execution_count": 226,
     "metadata": {},
     "output_type": "execute_result"
    }
   ],
   "source": [
    "# Finding score on the partial Training data\n",
    "linear_reg.score(X_train, y_train)"
   ]
  },
  {
   "cell_type": "code",
   "execution_count": 228,
   "id": "6aebeb14",
   "metadata": {},
   "outputs": [
    {
     "data": {
      "text/plain": [
       "0.823141538871845"
      ]
     },
     "execution_count": 228,
     "metadata": {},
     "output_type": "execute_result"
    }
   ],
   "source": [
    "# Finding score on the test data created from within the Train data\n",
    "linear_reg.score(X_test, y_test)"
   ]
  },
  {
   "cell_type": "code",
   "execution_count": 229,
   "id": "f89a71a9",
   "metadata": {},
   "outputs": [],
   "source": [
    "# Now let's extract the actual test data from within the consolidated data\n",
    "X_test_full = dfnn.drop(dfnn[pd.notna(dfnn.SalePrice)].index)\n",
    "X_test_full = X_test_full.drop(['SalePrice','Id'], axis=1)"
   ]
  },
  {
   "cell_type": "code",
   "execution_count": 230,
   "id": "c9a6dc0a",
   "metadata": {},
   "outputs": [
    {
     "data": {
      "text/plain": [
       "(292, 246)"
      ]
     },
     "execution_count": 230,
     "metadata": {},
     "output_type": "execute_result"
    }
   ],
   "source": [
    "X_test_full.shape"
   ]
  },
  {
   "cell_type": "code",
   "execution_count": 231,
   "id": "7eb44f2e",
   "metadata": {},
   "outputs": [],
   "source": [
    "# Remove the columns removed in the training data\n",
    "X_test_full = X_test_full.drop(corr_features, axis=1)"
   ]
  },
  {
   "cell_type": "code",
   "execution_count": 232,
   "id": "9cd70509",
   "metadata": {},
   "outputs": [
    {
     "data": {
      "text/plain": [
       "(292, 165)"
      ]
     },
     "execution_count": 232,
     "metadata": {},
     "output_type": "execute_result"
    }
   ],
   "source": [
    "X_test_full.shape"
   ]
  },
  {
   "cell_type": "markdown",
   "id": "e5dec916",
   "metadata": {},
   "source": [
    "#### Now its ok for the prediction"
   ]
  },
  {
   "cell_type": "code",
   "execution_count": 233,
   "id": "628dae27",
   "metadata": {},
   "outputs": [],
   "source": [
    "y_test_full = linear_reg.predict(X_test_full)"
   ]
  },
  {
   "cell_type": "code",
   "execution_count": 237,
   "id": "d6ddb6a5",
   "metadata": {},
   "outputs": [],
   "source": [
    "X_test_full['Prediction_Sale_Price'] = y_test_full"
   ]
  },
  {
   "cell_type": "code",
   "execution_count": 239,
   "id": "ad7a1421",
   "metadata": {},
   "outputs": [
    {
     "data": {
      "text/html": [
       "<div>\n",
       "<style scoped>\n",
       "    .dataframe tbody tr th:only-of-type {\n",
       "        vertical-align: middle;\n",
       "    }\n",
       "\n",
       "    .dataframe tbody tr th {\n",
       "        vertical-align: top;\n",
       "    }\n",
       "\n",
       "    .dataframe thead th {\n",
       "        text-align: right;\n",
       "    }\n",
       "</style>\n",
       "<table border=\"1\" class=\"dataframe\">\n",
       "  <thead>\n",
       "    <tr style=\"text-align: right;\">\n",
       "      <th></th>\n",
       "      <th>MSSubClass</th>\n",
       "      <th>LotFrontage</th>\n",
       "      <th>LotArea</th>\n",
       "      <th>OverallQual</th>\n",
       "      <th>OverallCond</th>\n",
       "      <th>YearBuilt</th>\n",
       "      <th>YearRemodAdd</th>\n",
       "      <th>MasVnrArea</th>\n",
       "      <th>BsmtFinSF1</th>\n",
       "      <th>BsmtFinSF2</th>\n",
       "      <th>...</th>\n",
       "      <th>Con</th>\n",
       "      <th>ConLD</th>\n",
       "      <th>ConLI</th>\n",
       "      <th>ConLw</th>\n",
       "      <th>New</th>\n",
       "      <th>Oth</th>\n",
       "      <th>AdjLand</th>\n",
       "      <th>Alloca</th>\n",
       "      <th>Family</th>\n",
       "      <th>Prediction_Sale_Price</th>\n",
       "    </tr>\n",
       "  </thead>\n",
       "  <tbody>\n",
       "    <tr>\n",
       "      <th>1168</th>\n",
       "      <td>20</td>\n",
       "      <td>86.0</td>\n",
       "      <td>14157</td>\n",
       "      <td>9</td>\n",
       "      <td>5</td>\n",
       "      <td>2005</td>\n",
       "      <td>2006</td>\n",
       "      <td>200.0</td>\n",
       "      <td>1249</td>\n",
       "      <td>0</td>\n",
       "      <td>...</td>\n",
       "      <td>0</td>\n",
       "      <td>0</td>\n",
       "      <td>0</td>\n",
       "      <td>0</td>\n",
       "      <td>0</td>\n",
       "      <td>0</td>\n",
       "      <td>0</td>\n",
       "      <td>0</td>\n",
       "      <td>0</td>\n",
       "      <td>360454.515700</td>\n",
       "    </tr>\n",
       "    <tr>\n",
       "      <th>1169</th>\n",
       "      <td>120</td>\n",
       "      <td>60.0</td>\n",
       "      <td>5814</td>\n",
       "      <td>8</td>\n",
       "      <td>5</td>\n",
       "      <td>1984</td>\n",
       "      <td>1984</td>\n",
       "      <td>0.0</td>\n",
       "      <td>1036</td>\n",
       "      <td>0</td>\n",
       "      <td>...</td>\n",
       "      <td>0</td>\n",
       "      <td>0</td>\n",
       "      <td>0</td>\n",
       "      <td>0</td>\n",
       "      <td>0</td>\n",
       "      <td>0</td>\n",
       "      <td>0</td>\n",
       "      <td>0</td>\n",
       "      <td>0</td>\n",
       "      <td>259779.212801</td>\n",
       "    </tr>\n",
       "    <tr>\n",
       "      <th>1170</th>\n",
       "      <td>20</td>\n",
       "      <td>60.0</td>\n",
       "      <td>11838</td>\n",
       "      <td>8</td>\n",
       "      <td>5</td>\n",
       "      <td>2001</td>\n",
       "      <td>2001</td>\n",
       "      <td>0.0</td>\n",
       "      <td>0</td>\n",
       "      <td>0</td>\n",
       "      <td>...</td>\n",
       "      <td>0</td>\n",
       "      <td>0</td>\n",
       "      <td>0</td>\n",
       "      <td>0</td>\n",
       "      <td>0</td>\n",
       "      <td>0</td>\n",
       "      <td>0</td>\n",
       "      <td>0</td>\n",
       "      <td>0</td>\n",
       "      <td>233601.779879</td>\n",
       "    </tr>\n",
       "    <tr>\n",
       "      <th>1171</th>\n",
       "      <td>70</td>\n",
       "      <td>75.0</td>\n",
       "      <td>12000</td>\n",
       "      <td>7</td>\n",
       "      <td>7</td>\n",
       "      <td>1941</td>\n",
       "      <td>1950</td>\n",
       "      <td>0.0</td>\n",
       "      <td>275</td>\n",
       "      <td>0</td>\n",
       "      <td>...</td>\n",
       "      <td>0</td>\n",
       "      <td>0</td>\n",
       "      <td>0</td>\n",
       "      <td>0</td>\n",
       "      <td>0</td>\n",
       "      <td>0</td>\n",
       "      <td>0</td>\n",
       "      <td>0</td>\n",
       "      <td>0</td>\n",
       "      <td>171672.925578</td>\n",
       "    </tr>\n",
       "    <tr>\n",
       "      <th>1172</th>\n",
       "      <td>60</td>\n",
       "      <td>86.0</td>\n",
       "      <td>14598</td>\n",
       "      <td>6</td>\n",
       "      <td>5</td>\n",
       "      <td>2007</td>\n",
       "      <td>2007</td>\n",
       "      <td>74.0</td>\n",
       "      <td>0</td>\n",
       "      <td>0</td>\n",
       "      <td>...</td>\n",
       "      <td>0</td>\n",
       "      <td>0</td>\n",
       "      <td>0</td>\n",
       "      <td>0</td>\n",
       "      <td>0</td>\n",
       "      <td>0</td>\n",
       "      <td>0</td>\n",
       "      <td>0</td>\n",
       "      <td>0</td>\n",
       "      <td>231764.441071</td>\n",
       "    </tr>\n",
       "  </tbody>\n",
       "</table>\n",
       "<p>5 rows × 166 columns</p>\n",
       "</div>"
      ],
      "text/plain": [
       "      MSSubClass  LotFrontage  LotArea  OverallQual  OverallCond  YearBuilt  \\\n",
       "1168          20         86.0    14157            9            5       2005   \n",
       "1169         120         60.0     5814            8            5       1984   \n",
       "1170          20         60.0    11838            8            5       2001   \n",
       "1171          70         75.0    12000            7            7       1941   \n",
       "1172          60         86.0    14598            6            5       2007   \n",
       "\n",
       "      YearRemodAdd  MasVnrArea  BsmtFinSF1  BsmtFinSF2  ...  Con  ConLD  \\\n",
       "1168          2006       200.0        1249           0  ...    0      0   \n",
       "1169          1984         0.0        1036           0  ...    0      0   \n",
       "1170          2001         0.0           0           0  ...    0      0   \n",
       "1171          1950         0.0         275           0  ...    0      0   \n",
       "1172          2007        74.0           0           0  ...    0      0   \n",
       "\n",
       "      ConLI  ConLw  New  Oth  AdjLand  Alloca  Family  Prediction_Sale_Price  \n",
       "1168      0      0    0    0        0       0       0          360454.515700  \n",
       "1169      0      0    0    0        0       0       0          259779.212801  \n",
       "1170      0      0    0    0        0       0       0          233601.779879  \n",
       "1171      0      0    0    0        0       0       0          171672.925578  \n",
       "1172      0      0    0    0        0       0       0          231764.441071  \n",
       "\n",
       "[5 rows x 166 columns]"
      ]
     },
     "execution_count": 239,
     "metadata": {},
     "output_type": "execute_result"
    }
   ],
   "source": [
    "X_test_full.head()"
   ]
  },
  {
   "cell_type": "code",
   "execution_count": 240,
   "id": "d1ec1676",
   "metadata": {},
   "outputs": [],
   "source": [
    "X_test_full.to_csv(r'C:\\temp\\prediction_20220317.csv')"
   ]
  },
  {
   "cell_type": "code",
   "execution_count": null,
   "id": "ceaf61cb",
   "metadata": {},
   "outputs": [],
   "source": []
  },
  {
   "cell_type": "code",
   "execution_count": 241,
   "id": "266f03e0",
   "metadata": {},
   "outputs": [],
   "source": [
    "import pickle\n",
    "filename = r'C:\\Temp\\Housing_Project_RegressModel.pkl'\n",
    "pickle.dump(linear_reg,open(filename,'wb'))"
   ]
  },
  {
   "cell_type": "code",
   "execution_count": null,
   "id": "0e27f5a1",
   "metadata": {},
   "outputs": [],
   "source": []
  },
  {
   "cell_type": "code",
   "execution_count": 243,
   "id": "1b07036a",
   "metadata": {},
   "outputs": [
    {
     "data": {
      "text/html": [
       "<div>\n",
       "<style scoped>\n",
       "    .dataframe tbody tr th:only-of-type {\n",
       "        vertical-align: middle;\n",
       "    }\n",
       "\n",
       "    .dataframe tbody tr th {\n",
       "        vertical-align: top;\n",
       "    }\n",
       "\n",
       "    .dataframe thead th {\n",
       "        text-align: right;\n",
       "    }\n",
       "</style>\n",
       "<table border=\"1\" class=\"dataframe\">\n",
       "  <thead>\n",
       "    <tr style=\"text-align: right;\">\n",
       "      <th></th>\n",
       "      <th>MSSubClass</th>\n",
       "      <th>LotFrontage</th>\n",
       "      <th>LotArea</th>\n",
       "      <th>OverallQual</th>\n",
       "      <th>OverallCond</th>\n",
       "      <th>YearBuilt</th>\n",
       "      <th>YearRemodAdd</th>\n",
       "      <th>MasVnrArea</th>\n",
       "      <th>BsmtFinSF1</th>\n",
       "      <th>BsmtFinSF2</th>\n",
       "      <th>...</th>\n",
       "      <th>Con</th>\n",
       "      <th>ConLD</th>\n",
       "      <th>ConLI</th>\n",
       "      <th>ConLw</th>\n",
       "      <th>New</th>\n",
       "      <th>Oth</th>\n",
       "      <th>AdjLand</th>\n",
       "      <th>Alloca</th>\n",
       "      <th>Family</th>\n",
       "      <th>Prediction_Sale_Price</th>\n",
       "    </tr>\n",
       "  </thead>\n",
       "  <tbody>\n",
       "    <tr>\n",
       "      <th>1168</th>\n",
       "      <td>20</td>\n",
       "      <td>86.0</td>\n",
       "      <td>14157</td>\n",
       "      <td>9</td>\n",
       "      <td>5</td>\n",
       "      <td>2005</td>\n",
       "      <td>2006</td>\n",
       "      <td>200.0</td>\n",
       "      <td>1249</td>\n",
       "      <td>0</td>\n",
       "      <td>...</td>\n",
       "      <td>0</td>\n",
       "      <td>0</td>\n",
       "      <td>0</td>\n",
       "      <td>0</td>\n",
       "      <td>0</td>\n",
       "      <td>0</td>\n",
       "      <td>0</td>\n",
       "      <td>0</td>\n",
       "      <td>0</td>\n",
       "      <td>360454.515700</td>\n",
       "    </tr>\n",
       "    <tr>\n",
       "      <th>1169</th>\n",
       "      <td>120</td>\n",
       "      <td>60.0</td>\n",
       "      <td>5814</td>\n",
       "      <td>8</td>\n",
       "      <td>5</td>\n",
       "      <td>1984</td>\n",
       "      <td>1984</td>\n",
       "      <td>0.0</td>\n",
       "      <td>1036</td>\n",
       "      <td>0</td>\n",
       "      <td>...</td>\n",
       "      <td>0</td>\n",
       "      <td>0</td>\n",
       "      <td>0</td>\n",
       "      <td>0</td>\n",
       "      <td>0</td>\n",
       "      <td>0</td>\n",
       "      <td>0</td>\n",
       "      <td>0</td>\n",
       "      <td>0</td>\n",
       "      <td>259779.212801</td>\n",
       "    </tr>\n",
       "    <tr>\n",
       "      <th>1170</th>\n",
       "      <td>20</td>\n",
       "      <td>60.0</td>\n",
       "      <td>11838</td>\n",
       "      <td>8</td>\n",
       "      <td>5</td>\n",
       "      <td>2001</td>\n",
       "      <td>2001</td>\n",
       "      <td>0.0</td>\n",
       "      <td>0</td>\n",
       "      <td>0</td>\n",
       "      <td>...</td>\n",
       "      <td>0</td>\n",
       "      <td>0</td>\n",
       "      <td>0</td>\n",
       "      <td>0</td>\n",
       "      <td>0</td>\n",
       "      <td>0</td>\n",
       "      <td>0</td>\n",
       "      <td>0</td>\n",
       "      <td>0</td>\n",
       "      <td>233601.779879</td>\n",
       "    </tr>\n",
       "    <tr>\n",
       "      <th>1171</th>\n",
       "      <td>70</td>\n",
       "      <td>75.0</td>\n",
       "      <td>12000</td>\n",
       "      <td>7</td>\n",
       "      <td>7</td>\n",
       "      <td>1941</td>\n",
       "      <td>1950</td>\n",
       "      <td>0.0</td>\n",
       "      <td>275</td>\n",
       "      <td>0</td>\n",
       "      <td>...</td>\n",
       "      <td>0</td>\n",
       "      <td>0</td>\n",
       "      <td>0</td>\n",
       "      <td>0</td>\n",
       "      <td>0</td>\n",
       "      <td>0</td>\n",
       "      <td>0</td>\n",
       "      <td>0</td>\n",
       "      <td>0</td>\n",
       "      <td>171672.925578</td>\n",
       "    </tr>\n",
       "    <tr>\n",
       "      <th>1172</th>\n",
       "      <td>60</td>\n",
       "      <td>86.0</td>\n",
       "      <td>14598</td>\n",
       "      <td>6</td>\n",
       "      <td>5</td>\n",
       "      <td>2007</td>\n",
       "      <td>2007</td>\n",
       "      <td>74.0</td>\n",
       "      <td>0</td>\n",
       "      <td>0</td>\n",
       "      <td>...</td>\n",
       "      <td>0</td>\n",
       "      <td>0</td>\n",
       "      <td>0</td>\n",
       "      <td>0</td>\n",
       "      <td>0</td>\n",
       "      <td>0</td>\n",
       "      <td>0</td>\n",
       "      <td>0</td>\n",
       "      <td>0</td>\n",
       "      <td>231764.441071</td>\n",
       "    </tr>\n",
       "    <tr>\n",
       "      <th>...</th>\n",
       "      <td>...</td>\n",
       "      <td>...</td>\n",
       "      <td>...</td>\n",
       "      <td>...</td>\n",
       "      <td>...</td>\n",
       "      <td>...</td>\n",
       "      <td>...</td>\n",
       "      <td>...</td>\n",
       "      <td>...</td>\n",
       "      <td>...</td>\n",
       "      <td>...</td>\n",
       "      <td>...</td>\n",
       "      <td>...</td>\n",
       "      <td>...</td>\n",
       "      <td>...</td>\n",
       "      <td>...</td>\n",
       "      <td>...</td>\n",
       "      <td>...</td>\n",
       "      <td>...</td>\n",
       "      <td>...</td>\n",
       "      <td>...</td>\n",
       "    </tr>\n",
       "    <tr>\n",
       "      <th>1455</th>\n",
       "      <td>20</td>\n",
       "      <td>78.0</td>\n",
       "      <td>10206</td>\n",
       "      <td>8</td>\n",
       "      <td>5</td>\n",
       "      <td>2007</td>\n",
       "      <td>2007</td>\n",
       "      <td>468.0</td>\n",
       "      <td>33</td>\n",
       "      <td>0</td>\n",
       "      <td>...</td>\n",
       "      <td>0</td>\n",
       "      <td>0</td>\n",
       "      <td>0</td>\n",
       "      <td>0</td>\n",
       "      <td>0</td>\n",
       "      <td>0</td>\n",
       "      <td>0</td>\n",
       "      <td>0</td>\n",
       "      <td>0</td>\n",
       "      <td>241601.332149</td>\n",
       "    </tr>\n",
       "    <tr>\n",
       "      <th>1456</th>\n",
       "      <td>20</td>\n",
       "      <td>57.0</td>\n",
       "      <td>9245</td>\n",
       "      <td>5</td>\n",
       "      <td>5</td>\n",
       "      <td>1994</td>\n",
       "      <td>1995</td>\n",
       "      <td>0.0</td>\n",
       "      <td>686</td>\n",
       "      <td>0</td>\n",
       "      <td>...</td>\n",
       "      <td>0</td>\n",
       "      <td>0</td>\n",
       "      <td>0</td>\n",
       "      <td>0</td>\n",
       "      <td>0</td>\n",
       "      <td>0</td>\n",
       "      <td>0</td>\n",
       "      <td>0</td>\n",
       "      <td>0</td>\n",
       "      <td>156112.624427</td>\n",
       "    </tr>\n",
       "    <tr>\n",
       "      <th>1457</th>\n",
       "      <td>20</td>\n",
       "      <td>60.0</td>\n",
       "      <td>11241</td>\n",
       "      <td>6</td>\n",
       "      <td>7</td>\n",
       "      <td>1970</td>\n",
       "      <td>1970</td>\n",
       "      <td>180.0</td>\n",
       "      <td>578</td>\n",
       "      <td>0</td>\n",
       "      <td>...</td>\n",
       "      <td>0</td>\n",
       "      <td>0</td>\n",
       "      <td>0</td>\n",
       "      <td>0</td>\n",
       "      <td>0</td>\n",
       "      <td>0</td>\n",
       "      <td>0</td>\n",
       "      <td>0</td>\n",
       "      <td>0</td>\n",
       "      <td>174274.988551</td>\n",
       "    </tr>\n",
       "    <tr>\n",
       "      <th>1458</th>\n",
       "      <td>50</td>\n",
       "      <td>50.0</td>\n",
       "      <td>5000</td>\n",
       "      <td>6</td>\n",
       "      <td>7</td>\n",
       "      <td>1947</td>\n",
       "      <td>1950</td>\n",
       "      <td>0.0</td>\n",
       "      <td>399</td>\n",
       "      <td>0</td>\n",
       "      <td>...</td>\n",
       "      <td>0</td>\n",
       "      <td>0</td>\n",
       "      <td>0</td>\n",
       "      <td>0</td>\n",
       "      <td>0</td>\n",
       "      <td>0</td>\n",
       "      <td>0</td>\n",
       "      <td>0</td>\n",
       "      <td>0</td>\n",
       "      <td>178293.723693</td>\n",
       "    </tr>\n",
       "    <tr>\n",
       "      <th>1459</th>\n",
       "      <td>160</td>\n",
       "      <td>21.0</td>\n",
       "      <td>1953</td>\n",
       "      <td>6</td>\n",
       "      <td>5</td>\n",
       "      <td>1973</td>\n",
       "      <td>1973</td>\n",
       "      <td>408.0</td>\n",
       "      <td>309</td>\n",
       "      <td>0</td>\n",
       "      <td>...</td>\n",
       "      <td>0</td>\n",
       "      <td>0</td>\n",
       "      <td>0</td>\n",
       "      <td>0</td>\n",
       "      <td>0</td>\n",
       "      <td>0</td>\n",
       "      <td>0</td>\n",
       "      <td>0</td>\n",
       "      <td>0</td>\n",
       "      <td>92878.568416</td>\n",
       "    </tr>\n",
       "  </tbody>\n",
       "</table>\n",
       "<p>292 rows × 166 columns</p>\n",
       "</div>"
      ],
      "text/plain": [
       "      MSSubClass  LotFrontage  LotArea  OverallQual  OverallCond  YearBuilt  \\\n",
       "1168          20         86.0    14157            9            5       2005   \n",
       "1169         120         60.0     5814            8            5       1984   \n",
       "1170          20         60.0    11838            8            5       2001   \n",
       "1171          70         75.0    12000            7            7       1941   \n",
       "1172          60         86.0    14598            6            5       2007   \n",
       "...          ...          ...      ...          ...          ...        ...   \n",
       "1455          20         78.0    10206            8            5       2007   \n",
       "1456          20         57.0     9245            5            5       1994   \n",
       "1457          20         60.0    11241            6            7       1970   \n",
       "1458          50         50.0     5000            6            7       1947   \n",
       "1459         160         21.0     1953            6            5       1973   \n",
       "\n",
       "      YearRemodAdd  MasVnrArea  BsmtFinSF1  BsmtFinSF2  ...  Con  ConLD  \\\n",
       "1168          2006       200.0        1249           0  ...    0      0   \n",
       "1169          1984         0.0        1036           0  ...    0      0   \n",
       "1170          2001         0.0           0           0  ...    0      0   \n",
       "1171          1950         0.0         275           0  ...    0      0   \n",
       "1172          2007        74.0           0           0  ...    0      0   \n",
       "...            ...         ...         ...         ...  ...  ...    ...   \n",
       "1455          2007       468.0          33           0  ...    0      0   \n",
       "1456          1995         0.0         686           0  ...    0      0   \n",
       "1457          1970       180.0         578           0  ...    0      0   \n",
       "1458          1950         0.0         399           0  ...    0      0   \n",
       "1459          1973       408.0         309           0  ...    0      0   \n",
       "\n",
       "      ConLI  ConLw  New  Oth  AdjLand  Alloca  Family  Prediction_Sale_Price  \n",
       "1168      0      0    0    0        0       0       0          360454.515700  \n",
       "1169      0      0    0    0        0       0       0          259779.212801  \n",
       "1170      0      0    0    0        0       0       0          233601.779879  \n",
       "1171      0      0    0    0        0       0       0          171672.925578  \n",
       "1172      0      0    0    0        0       0       0          231764.441071  \n",
       "...     ...    ...  ...  ...      ...     ...     ...                    ...  \n",
       "1455      0      0    0    0        0       0       0          241601.332149  \n",
       "1456      0      0    0    0        0       0       0          156112.624427  \n",
       "1457      0      0    0    0        0       0       0          174274.988551  \n",
       "1458      0      0    0    0        0       0       0          178293.723693  \n",
       "1459      0      0    0    0        0       0       0           92878.568416  \n",
       "\n",
       "[292 rows x 166 columns]"
      ]
     },
     "execution_count": 243,
     "metadata": {},
     "output_type": "execute_result"
    }
   ],
   "source": []
  },
  {
   "cell_type": "code",
   "execution_count": null,
   "id": "04fc67bc",
   "metadata": {},
   "outputs": [],
   "source": []
  }
 ],
 "metadata": {
  "kernelspec": {
   "display_name": "Python 3 (ipykernel)",
   "language": "python",
   "name": "python3"
  },
  "language_info": {
   "codemirror_mode": {
    "name": "ipython",
    "version": 3
   },
   "file_extension": ".py",
   "mimetype": "text/x-python",
   "name": "python",
   "nbconvert_exporter": "python",
   "pygments_lexer": "ipython3",
   "version": "3.9.7"
  }
 },
 "nbformat": 4,
 "nbformat_minor": 5
}
